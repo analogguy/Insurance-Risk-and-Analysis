{
  "nbformat": 4,
  "nbformat_minor": 0,
  "metadata": {
    "colab": {
      "name": "Insurance Risk and Analysis.ipynb",
      "provenance": [],
      "collapsed_sections": []
    },
    "kernelspec": {
      "name": "python3",
      "display_name": "Python 3"
    }
  },
  "cells": [
    {
      "cell_type": "markdown",
      "metadata": {
        "id": "OKoCMJyzLSiA",
        "colab_type": "text"
      },
      "source": [
        "#Linking with Google drive"
      ]
    },
    {
      "cell_type": "code",
      "metadata": {
        "id": "PwY3T2P8F-CS",
        "colab_type": "code",
        "colab": {
          "base_uri": "https://localhost:8080/",
          "height": 139
        },
        "outputId": "9c43fd10-58fd-4448-ee31-90713a927593"
      },
      "source": [
        "from google.colab import drive\n",
        "drive.mount('/gdrive')\n",
        "%cd /gdrive"
      ],
      "execution_count": 7,
      "outputs": [
        {
          "output_type": "stream",
          "text": [
            "Go to this URL in a browser: https://accounts.google.com/o/oauth2/auth?client_id=947318989803-6bn6qk8qdgf4n4g3pfee6491hc0brc4i.apps.googleusercontent.com&redirect_uri=urn%3aietf%3awg%3aoauth%3a2.0%3aoob&response_type=code&scope=email%20https%3a%2f%2fwww.googleapis.com%2fauth%2fdocs.test%20https%3a%2f%2fwww.googleapis.com%2fauth%2fdrive%20https%3a%2f%2fwww.googleapis.com%2fauth%2fdrive.photos.readonly%20https%3a%2f%2fwww.googleapis.com%2fauth%2fpeopleapi.readonly\n",
            "\n",
            "Enter your authorization code:\n",
            "··········\n",
            "Mounted at /gdrive\n",
            "/gdrive\n"
          ],
          "name": "stdout"
        }
      ]
    },
    {
      "cell_type": "markdown",
      "metadata": {
        "id": "59fKxyuWdz6T",
        "colab_type": "text"
      },
      "source": [
        "#Importing required packages"
      ]
    },
    {
      "cell_type": "code",
      "metadata": {
        "id": "QP3HyUcvMm16",
        "colab_type": "code",
        "colab": {}
      },
      "source": [
        "\n",
        "from sklearn.ensemble import RandomForestRegressor\n",
        "from sklearn.ensemble import GradientBoostingRegressor\n",
        "from sklearn.ensemble import GradientBoostingClassifier\n",
        "from sklearn.model_selection import StratifiedKFold, GridSearchCV, train_test_split\n",
        "from sklearn.linear_model import LogisticRegression\n",
        "from sklearn.metrics import roc_auc_score, roc_curve, auc, mean_squared_error, r2_score, classification_report\n",
        "\n",
        "import pandas as pd\n",
        "import numpy as np\n",
        "import matplotlib.pyplot as plt\n",
        "import datetime as datetime\n",
        "import seaborn as sns\n",
        "import seaborn as sns\n",
        "import math"
      ],
      "execution_count": 10,
      "outputs": []
    },
    {
      "cell_type": "code",
      "metadata": {
        "id": "Mfzqb3tELhtZ",
        "colab_type": "code",
        "colab": {
          "base_uri": "https://localhost:8080/",
          "height": 224
        },
        "outputId": "e525ce86-0601-4ed3-e101-80e05c8549bf"
      },
      "source": [
        "file_1 = '/gdrive/My Drive/Insurance risk and Analysis/policies_2017.csv'\n",
        "df_2017 = pd.read_csv(file_1, parse_dates = True)\n",
        "file_2 = '/gdrive/My Drive/Insurance risk and Analysis/potential_customers_2018.csv'\n",
        "df_2018 = pd.read_csv(file_2, parse_dates = True)\n",
        "df_2017.head()"
      ],
      "execution_count": 11,
      "outputs": [
        {
          "output_type": "execute_result",
          "data": {
            "text/html": [
              "<div>\n",
              "<style scoped>\n",
              "    .dataframe tbody tr th:only-of-type {\n",
              "        vertical-align: middle;\n",
              "    }\n",
              "\n",
              "    .dataframe tbody tr th {\n",
              "        vertical-align: top;\n",
              "    }\n",
              "\n",
              "    .dataframe thead th {\n",
              "        text-align: right;\n",
              "    }\n",
              "</style>\n",
              "<table border=\"1\" class=\"dataframe\">\n",
              "  <thead>\n",
              "    <tr style=\"text-align: right;\">\n",
              "      <th></th>\n",
              "      <th>pol_number</th>\n",
              "      <th>pol_eff_dt</th>\n",
              "      <th>gender</th>\n",
              "      <th>agecat</th>\n",
              "      <th>date_of_birth</th>\n",
              "      <th>credit_score</th>\n",
              "      <th>area</th>\n",
              "      <th>traffic_index</th>\n",
              "      <th>veh_age</th>\n",
              "      <th>veh_body</th>\n",
              "      <th>veh_value</th>\n",
              "      <th>claim_office</th>\n",
              "      <th>numclaims</th>\n",
              "      <th>claimcst0</th>\n",
              "      <th>annual_premium</th>\n",
              "    </tr>\n",
              "  </thead>\n",
              "  <tbody>\n",
              "    <tr>\n",
              "      <th>0</th>\n",
              "      <td>64080188</td>\n",
              "      <td>7/10/2017</td>\n",
              "      <td>M</td>\n",
              "      <td>2.0</td>\n",
              "      <td>1/4/1989</td>\n",
              "      <td>631.0</td>\n",
              "      <td>B</td>\n",
              "      <td>140.9</td>\n",
              "      <td>4</td>\n",
              "      <td>TRUCK</td>\n",
              "      <td>0.924</td>\n",
              "      <td>NaN</td>\n",
              "      <td>0</td>\n",
              "      <td>0.000000</td>\n",
              "      <td>716.53</td>\n",
              "    </tr>\n",
              "    <tr>\n",
              "      <th>1</th>\n",
              "      <td>18917133</td>\n",
              "      <td>7/31/2017</td>\n",
              "      <td>M</td>\n",
              "      <td>2.0</td>\n",
              "      <td>6/21/1985</td>\n",
              "      <td>531.0</td>\n",
              "      <td>C</td>\n",
              "      <td>136.5</td>\n",
              "      <td>3</td>\n",
              "      <td>HBACK</td>\n",
              "      <td>1.430</td>\n",
              "      <td>B</td>\n",
              "      <td>1</td>\n",
              "      <td>583.010876</td>\n",
              "      <td>716.53</td>\n",
              "    </tr>\n",
              "    <tr>\n",
              "      <th>2</th>\n",
              "      <td>82742606</td>\n",
              "      <td>2/1/2017</td>\n",
              "      <td>M</td>\n",
              "      <td>6.0</td>\n",
              "      <td>7/25/1942</td>\n",
              "      <td>838.0</td>\n",
              "      <td>D</td>\n",
              "      <td>88.8</td>\n",
              "      <td>3</td>\n",
              "      <td>SEDAN</td>\n",
              "      <td>1.100</td>\n",
              "      <td>D</td>\n",
              "      <td>1</td>\n",
              "      <td>159.375757</td>\n",
              "      <td>716.53</td>\n",
              "    </tr>\n",
              "    <tr>\n",
              "      <th>3</th>\n",
              "      <td>43601997</td>\n",
              "      <td>10/17/2017</td>\n",
              "      <td>M</td>\n",
              "      <td>5.0</td>\n",
              "      <td>6/8/1959</td>\n",
              "      <td>835.0</td>\n",
              "      <td>E</td>\n",
              "      <td>NaN</td>\n",
              "      <td>2</td>\n",
              "      <td>SEDAN</td>\n",
              "      <td>2.090</td>\n",
              "      <td>NaN</td>\n",
              "      <td>0</td>\n",
              "      <td>0.000000</td>\n",
              "      <td>716.53</td>\n",
              "    </tr>\n",
              "    <tr>\n",
              "      <th>4</th>\n",
              "      <td>58746861</td>\n",
              "      <td>4/13/2017</td>\n",
              "      <td>F</td>\n",
              "      <td>4.0</td>\n",
              "      <td>5/16/1967</td>\n",
              "      <td>748.0</td>\n",
              "      <td>C</td>\n",
              "      <td>123.0</td>\n",
              "      <td>3</td>\n",
              "      <td>HBACK</td>\n",
              "      <td>0.803</td>\n",
              "      <td>C</td>\n",
              "      <td>1</td>\n",
              "      <td>143.555642</td>\n",
              "      <td>716.53</td>\n",
              "    </tr>\n",
              "  </tbody>\n",
              "</table>\n",
              "</div>"
            ],
            "text/plain": [
              "   pol_number  pol_eff_dt gender  ...  numclaims   claimcst0  annual_premium\n",
              "0    64080188   7/10/2017      M  ...          0    0.000000          716.53\n",
              "1    18917133   7/31/2017      M  ...          1  583.010876          716.53\n",
              "2    82742606    2/1/2017      M  ...          1  159.375757          716.53\n",
              "3    43601997  10/17/2017      M  ...          0    0.000000          716.53\n",
              "4    58746861   4/13/2017      F  ...          1  143.555642          716.53\n",
              "\n",
              "[5 rows x 15 columns]"
            ]
          },
          "metadata": {
            "tags": []
          },
          "execution_count": 11
        }
      ]
    },
    {
      "cell_type": "markdown",
      "metadata": {
        "id": "SrjAj43UeW9-",
        "colab_type": "text"
      },
      "source": [
        "#Checking accuracy of data imported"
      ]
    },
    {
      "cell_type": "code",
      "metadata": {
        "id": "hKLqQmwDeTau",
        "colab_type": "code",
        "colab": {
          "base_uri": "https://localhost:8080/",
          "height": 204
        },
        "outputId": "32ca1655-91fd-4a81-8fe7-3020f46a5579"
      },
      "source": [
        "df_2018.head()"
      ],
      "execution_count": 12,
      "outputs": [
        {
          "output_type": "execute_result",
          "data": {
            "text/html": [
              "<div>\n",
              "<style scoped>\n",
              "    .dataframe tbody tr th:only-of-type {\n",
              "        vertical-align: middle;\n",
              "    }\n",
              "\n",
              "    .dataframe tbody tr th {\n",
              "        vertical-align: top;\n",
              "    }\n",
              "\n",
              "    .dataframe thead th {\n",
              "        text-align: right;\n",
              "    }\n",
              "</style>\n",
              "<table border=\"1\" class=\"dataframe\">\n",
              "  <thead>\n",
              "    <tr style=\"text-align: right;\">\n",
              "      <th></th>\n",
              "      <th>quote_number</th>\n",
              "      <th>gender</th>\n",
              "      <th>agecat</th>\n",
              "      <th>date_of_birth</th>\n",
              "      <th>credit_score</th>\n",
              "      <th>area</th>\n",
              "      <th>traffic_index</th>\n",
              "      <th>veh_age</th>\n",
              "      <th>veh_body</th>\n",
              "      <th>veh_value</th>\n",
              "    </tr>\n",
              "  </thead>\n",
              "  <tbody>\n",
              "    <tr>\n",
              "      <th>0</th>\n",
              "      <td>29323463</td>\n",
              "      <td>F</td>\n",
              "      <td>4.0</td>\n",
              "      <td>4/14/1968</td>\n",
              "      <td>750.0</td>\n",
              "      <td>C</td>\n",
              "      <td>124.5</td>\n",
              "      <td>2</td>\n",
              "      <td>HBACK</td>\n",
              "      <td>1.100</td>\n",
              "    </tr>\n",
              "    <tr>\n",
              "      <th>1</th>\n",
              "      <td>16732441</td>\n",
              "      <td>M</td>\n",
              "      <td>2.0</td>\n",
              "      <td>10/4/1984</td>\n",
              "      <td>567.0</td>\n",
              "      <td>F</td>\n",
              "      <td>NaN</td>\n",
              "      <td>3</td>\n",
              "      <td>STNWG</td>\n",
              "      <td>2.079</td>\n",
              "    </tr>\n",
              "    <tr>\n",
              "      <th>2</th>\n",
              "      <td>68744228</td>\n",
              "      <td>M</td>\n",
              "      <td>4.0</td>\n",
              "      <td>11/30/1962</td>\n",
              "      <td>378.0</td>\n",
              "      <td>D</td>\n",
              "      <td>111.4</td>\n",
              "      <td>3</td>\n",
              "      <td>HDTOP</td>\n",
              "      <td>2.354</td>\n",
              "    </tr>\n",
              "    <tr>\n",
              "      <th>3</th>\n",
              "      <td>30875047</td>\n",
              "      <td>F</td>\n",
              "      <td>3.0</td>\n",
              "      <td>5/17/1973</td>\n",
              "      <td>807.0</td>\n",
              "      <td>E</td>\n",
              "      <td>NaN</td>\n",
              "      <td>4</td>\n",
              "      <td>UTE</td>\n",
              "      <td>1.969</td>\n",
              "    </tr>\n",
              "    <tr>\n",
              "      <th>4</th>\n",
              "      <td>37049210</td>\n",
              "      <td>M</td>\n",
              "      <td>6.0</td>\n",
              "      <td>10/2/1945</td>\n",
              "      <td>844.0</td>\n",
              "      <td>C</td>\n",
              "      <td>111.0</td>\n",
              "      <td>1</td>\n",
              "      <td>HBACK</td>\n",
              "      <td>1.969</td>\n",
              "    </tr>\n",
              "  </tbody>\n",
              "</table>\n",
              "</div>"
            ],
            "text/plain": [
              "   quote_number gender  agecat  ... veh_age  veh_body veh_value\n",
              "0      29323463      F     4.0  ...       2     HBACK     1.100\n",
              "1      16732441      M     2.0  ...       3     STNWG     2.079\n",
              "2      68744228      M     4.0  ...       3     HDTOP     2.354\n",
              "3      30875047      F     3.0  ...       4       UTE     1.969\n",
              "4      37049210      M     6.0  ...       1     HBACK     1.969\n",
              "\n",
              "[5 rows x 10 columns]"
            ]
          },
          "metadata": {
            "tags": []
          },
          "execution_count": 12
        }
      ]
    },
    {
      "cell_type": "markdown",
      "metadata": {
        "id": "Y4VcHLGdeg-3",
        "colab_type": "text"
      },
      "source": [
        "#Tabular representation"
      ]
    },
    {
      "cell_type": "code",
      "metadata": {
        "id": "e9Yuz8a1MecD",
        "colab_type": "code",
        "colab": {
          "base_uri": "https://localhost:8080/",
          "height": 879
        },
        "outputId": "45d48189-0a30-4e6d-f22c-c957ee927406"
      },
      "source": [
        "pd.DataFrame.hist(df_2017, figsize = [15,15]);"
      ],
      "execution_count": 13,
      "outputs": [
        {
          "output_type": "display_data",
          "data": {
            "image/png": "[encoded data removed]",
            "text/plain": [
              "<Figure size 1080x1080 with 9 Axes>"
            ]
          },
          "metadata": {
            "tags": [],
            "needs_background": "light"
          }
        }
      ]
    },
    {
      "cell_type": "code",
      "metadata": {
        "id": "jsgqk3X9eJ_3",
        "colab_type": "code",
        "colab": {
          "base_uri": "https://localhost:8080/",
          "height": 879
        },
        "outputId": "630c8857-be17-400a-fbc4-71b9c6f11bb6"
      },
      "source": [
        "pd.DataFrame.hist(df_2018, figsize = [15,15]);"
      ],
      "execution_count": 14,
      "outputs": [
        {
          "output_type": "display_data",
          "data": {
            "image/png": "[encoded data removed]",
            "text/plain": [
              "<Figure size 1080x1080 with 6 Axes>"
            ]
          },
          "metadata": {
            "tags": [],
            "needs_background": "light"
          }
        }
      ]
    },
    {
      "cell_type": "code",
      "metadata": {
        "id": "0KmWm74nSwSI",
        "colab_type": "code",
        "colab": {
          "base_uri": "https://localhost:8080/",
          "height": 778
        },
        "outputId": "14e099fd-6c54-475a-b460-afda0de14725"
      },
      "source": [
        "# Plotting Coorelation Matrix to see if there is any correlation\n",
        "df_num = df_2017.select_dtypes(include = ['float64', 'int64'])  #To include data types int and float only, so only numbers\n",
        "cor_matrix = df_num.corr().round(2)    #Round to digit 2, and create a correlation matrix\n",
        "fig = plt.figure(figsize=(12,12));   \n",
        "sns.heatmap(cor_matrix, annot=True, center=0, cmap = sns.diverging_palette(250, 10, as_cmap=True), ax=plt.subplot(111));\n",
        "plt.show()"
      ],
      "execution_count": 15,
      "outputs": [
        {
          "output_type": "display_data",
          "data": {
            "image/png": "[encoded data removed]",
            "text/plain": [
              "<Figure size 864x864 with 2 Axes>"
            ]
          },
          "metadata": {
            "tags": [],
            "needs_background": "light"
          }
        }
      ]
    },
    {
      "cell_type": "code",
      "metadata": {
        "id": "cH3LkZzeoxuJ",
        "colab_type": "code",
        "colab": {
          "base_uri": "https://localhost:8080/",
          "height": 279
        },
        "outputId": "1f446db7-1804-4f9f-e56f-62d81b9d77f3"
      },
      "source": [
        "sns.countplot(df_2017.numclaims);\n",
        "plt.xlabel('Filed Claim');\n",
        "plt.ylabel('Number of occurrences');\n",
        "plt.show()"
      ],
      "execution_count": 16,
      "outputs": [
        {
          "output_type": "display_data",
          "data": {
            "image/png": "[encoded data removed]",
            "text/plain": [
              "<Figure size 432x288 with 1 Axes>"
            ]
          },
          "metadata": {
            "tags": [],
            "needs_background": "light"
          }
        }
      ]
    },
    {
      "cell_type": "code",
      "metadata": {
        "id": "r6etMcchoz47",
        "colab_type": "code",
        "colab": {
          "base_uri": "https://localhost:8080/",
          "height": 295
        },
        "outputId": "0d6e992d-3bcd-423e-f719-4ca3afad3068"
      },
      "source": [
        "#Sort by sex\n",
        "fig, (ax1, ax2) = plt.subplots(ncols=2)\n",
        "fig.set_size_inches(12,4)\n",
        "g = sns.countplot(x='gender',data=df_2017.sort_values('gender'), ax=ax1)\n",
        "title = g.set_title('Overall')\n",
        "g = sns.countplot(x='gender',data=df_2017[df_2017['numclaims']>0].sort_values('gender'), ax=ax2)\n",
        "title = g.set_title('Claims more than 0')"
      ],
      "execution_count": 17,
      "outputs": [
        {
          "output_type": "display_data",
          "data": {
            "image/png": "[encoded data removed]",
            "text/plain": [
              "<Figure size 864x288 with 2 Axes>"
            ]
          },
          "metadata": {
            "tags": [],
            "needs_background": "light"
          }
        }
      ]
    },
    {
      "cell_type": "code",
      "metadata": {
        "id": "JNYqnW4dwvBD",
        "colab_type": "code",
        "colab": {
          "base_uri": "https://localhost:8080/",
          "height": 265
        },
        "outputId": "affa6429-fdf7-4a8c-a46b-2d1fb411a81e"
      },
      "source": [
        "#Visualize Vehicle Body Type\n",
        "fig, (ax1, ax2) = plt.subplots(ncols=2)\n",
        "fig.set_size_inches(10,3)\n",
        "g = sns.countplot(x='veh_body',data=df_2017, ax=ax1)\n",
        "label = g.set_xticklabels(g.get_xticklabels(), rotation=45)\n",
        "title = g.set_title('Overall')\n",
        "g = sns.countplot(x='veh_body',data=df_2017[df_2017['numclaims']>0], ax=ax2)\n",
        "label = g.set_xticklabels(g.get_xticklabels(), rotation=45)\n",
        "title = g.set_title('Claims more than 0')"
      ],
      "execution_count": 18,
      "outputs": [
        {
          "output_type": "display_data",
          "data": {
            "image/png": "[encoded data removed]",
            "text/plain": [
              "<Figure size 720x216 with 2 Axes>"
            ]
          },
          "metadata": {
            "tags": [],
            "needs_background": "light"
          }
        }
      ]
    },
    {
      "cell_type": "code",
      "metadata": {
        "id": "L99nPyccw0KS",
        "colab_type": "code",
        "colab": {
          "base_uri": "https://localhost:8080/",
          "height": 242
        },
        "outputId": "70e1874a-3e0b-47ff-c8d1-5f09b8997e9a"
      },
      "source": [
        "#Visualize Vehicle Age\n",
        "fig, (ax1, ax2) = plt.subplots(ncols=2)\n",
        "fig.set_size_inches(10,3)\n",
        "g = sns.countplot(x='veh_age',data=df_2017, ax=ax1)\n",
        "title = g.set_title('Overall')\n",
        "g = sns.countplot(x='veh_age',data=df_2017[df_2017['numclaims']>0], ax=ax2)\n",
        "title = g.set_title('Claims more than 0')"
      ],
      "execution_count": 19,
      "outputs": [
        {
          "output_type": "display_data",
          "data": {
            "image/png": "[encoded data removed]",
            "text/plain": [
              "<Figure size 720x216 with 2 Axes>"
            ]
          },
          "metadata": {
            "tags": [],
            "needs_background": "light"
          }
        }
      ]
    },
    {
      "cell_type": "code",
      "metadata": {
        "id": "MDotmwSew5eC",
        "colab_type": "code",
        "colab": {
          "base_uri": "https://localhost:8080/",
          "height": 241
        },
        "outputId": "c5832da0-8918-4884-d1ac-6694cfa9a92a"
      },
      "source": [
        "#Visualize Driver Age\n",
        "fig, (ax1, ax2) = plt.subplots(ncols=2)\n",
        "fig.set_size_inches(10,3)\n",
        "g = sns.countplot(x='agecat',data=df_2017, ax=ax1)\n",
        "title = g.set_title('Overall')\n",
        "g = sns.countplot(x='agecat',data=df_2017[df_2017['numclaims']>0], ax=ax2)\n",
        "title = g.set_title('Claims more than 0')"
      ],
      "execution_count": 20,
      "outputs": [
        {
          "output_type": "display_data",
          "data": {
            "image/png": "[encoded data removed]",
            "text/plain": [
              "<Figure size 720x216 with 2 Axes>"
            ]
          },
          "metadata": {
            "tags": [],
            "needs_background": "light"
          }
        }
      ]
    },
    {
      "cell_type": "code",
      "metadata": {
        "id": "YRKh8eTlw_J7",
        "colab_type": "code",
        "colab": {
          "base_uri": "https://localhost:8080/",
          "height": 242
        },
        "outputId": "19cd304e-26fd-4952-da76-bb268de72756"
      },
      "source": [
        "#Make Vehicle Value categorical\n",
        "df_2017['cat_veh_value'] = df_2017['veh_value'].apply(lambda x:1 if x<=1 else 2 if x<=2 else 3 if x<=3 else 4 if x<=4 else 5)\n",
        "#Visualize Vehicle Value\n",
        "fig, (ax1, ax2) = plt.subplots(ncols=2)\n",
        "fig.set_size_inches(10,3)\n",
        "g = sns.countplot(x='cat_veh_value',data=df_2017, ax=ax1)\n",
        "title = g.set_title('Overall')\n",
        "g = sns.countplot(x='cat_veh_value',data=df_2017[df_2017['numclaims']>0], ax=ax2)\n",
        "title = g.set_title('Claims more than 0')"
      ],
      "execution_count": 21,
      "outputs": [
        {
          "output_type": "display_data",
          "data": {
            "image/png": "[encoded data removed]",
            "text/plain": [
              "<Figure size 720x216 with 2 Axes>"
            ]
          },
          "metadata": {
            "tags": [],
            "needs_background": "light"
          }
        }
      ]
    },
    {
      "cell_type": "markdown",
      "metadata": {
        "id": "URduoOdfxIOa",
        "colab_type": "text"
      },
      "source": [
        "#Data Prep and Cleaning"
      ]
    },
    {
      "cell_type": "code",
      "metadata": {
        "id": "ZLyiYT61xDzD",
        "colab_type": "code",
        "colab": {
          "base_uri": "https://localhost:8080/",
          "height": 306
        },
        "outputId": "e384bccb-ca0c-467b-91c4-21b19307e103"
      },
      "source": [
        "df_2017.isnull().sum()"
      ],
      "execution_count": 22,
      "outputs": [
        {
          "output_type": "execute_result",
          "data": {
            "text/plain": [
              "pol_number            0\n",
              "pol_eff_dt            0\n",
              "gender                0\n",
              "agecat             4831\n",
              "date_of_birth         0\n",
              "credit_score       2801\n",
              "area                  0\n",
              "traffic_index      3503\n",
              "veh_age               0\n",
              "veh_body              0\n",
              "veh_value             0\n",
              "claim_office      50362\n",
              "numclaims             0\n",
              "claimcst0             0\n",
              "annual_premium        0\n",
              "cat_veh_value         0\n",
              "dtype: int64"
            ]
          },
          "metadata": {
            "tags": []
          },
          "execution_count": 22
        }
      ]
    },
    {
      "cell_type": "code",
      "metadata": {
        "id": "d8D8dvYLxWia",
        "colab_type": "code",
        "colab": {
          "base_uri": "https://localhost:8080/",
          "height": 315
        },
        "outputId": "9d09ae24-9353-493f-e63b-28bc539857dc"
      },
      "source": [
        "df_2017.hist(column='credit_score')"
      ],
      "execution_count": 23,
      "outputs": [
        {
          "output_type": "execute_result",
          "data": {
            "text/plain": [
              "array([[<matplotlib.axes._subplots.AxesSubplot object at 0x7f14d0c79278>]],\n",
              "      dtype=object)"
            ]
          },
          "metadata": {
            "tags": []
          },
          "execution_count": 23
        },
        {
          "output_type": "display_data",
          "data": {
            "image/png": "[encoded data removed]",
            "text/plain": [
              "<Figure size 432x288 with 1 Axes>"
            ]
          },
          "metadata": {
            "tags": [],
            "needs_background": "light"
          }
        }
      ]
    },
    {
      "cell_type": "code",
      "metadata": {
        "id": "0L_Ea-CpxjK2",
        "colab_type": "code",
        "colab": {
          "base_uri": "https://localhost:8080/",
          "height": 315
        },
        "outputId": "6dfc06af-652d-4ba1-99c4-5464d89ea393"
      },
      "source": [
        "df_2017.hist(column='traffic_index')\n"
      ],
      "execution_count": 24,
      "outputs": [
        {
          "output_type": "execute_result",
          "data": {
            "text/plain": [
              "array([[<matplotlib.axes._subplots.AxesSubplot object at 0x7f14ccf134a8>]],\n",
              "      dtype=object)"
            ]
          },
          "metadata": {
            "tags": []
          },
          "execution_count": 24
        },
        {
          "output_type": "display_data",
          "data": {
            "image/png": "[encoded data removed]",
            "text/plain": [
              "<Figure size 432x288 with 1 Axes>"
            ]
          },
          "metadata": {
            "tags": [],
            "needs_background": "light"
          }
        }
      ]
    },
    {
      "cell_type": "code",
      "metadata": {
        "id": "tAsvlcuSzP_3",
        "colab_type": "code",
        "colab": {}
      },
      "source": [
        "#Function to impute missing values in 'agecat', 'credit_score' and 'traffic_index'\n",
        "def missing_value(data):\n",
        "    \n",
        "    \"\"\" Function takes in raw data and returns cleaned data, in imputing age, bins have been crosschecked with the \n",
        "    excel file. Class labels 6 = 1900-1949, 5= 1950-159, 4 =1960-1969, 3=1970-1979, 2= 1980-1989, 1=1990-1999\"\"\"\n",
        "    \n",
        "    data[\"date_of_birth\"] = pd.to_datetime(data['date_of_birth'])\n",
        "    data[\"DOB_year\"]=data.date_of_birth.dt.year\n",
        "    labels=[6,5,4,3,2,1]\n",
        "    data[\"agecat_new\"] = pd.cut(df_2017.DOB_year, bins = [1900,1949,1959,1969,1979,1989,1999],labels=labels, include_lowest=True)\n",
        "    data[\"credit_score\"] = data.groupby('agecat_new')['credit_score'].apply(lambda x: x.fillna(x.mean()))\n",
        "    data['veh_value'] = (data['veh_value']+1).apply(np.log)\n",
        "    data.traffic_index.fillna(data.traffic_index.mean(), inplace=True)\n",
        "    data.drop([\"agecat\"],axis=1,inplace=True)\n",
        "    return(data)\n",
        "    "
      ],
      "execution_count": 25,
      "outputs": []
    },
    {
      "cell_type": "code",
      "metadata": {
        "id": "bv36pR21GXvz",
        "colab_type": "code",
        "colab": {}
      },
      "source": [
        "clean_data_2017=missing_value(df_2017)\n",
        "clean_data_2018=missing_value(df_2018)"
      ],
      "execution_count": 26,
      "outputs": []
    },
    {
      "cell_type": "code",
      "metadata": {
        "id": "ziuN65HuGZ5c",
        "colab_type": "code",
        "colab": {
          "base_uri": "https://localhost:8080/",
          "height": 323
        },
        "outputId": "89c287ce-b6bc-4092-9d79-f1a422b0e6c6"
      },
      "source": [
        "clean_data_2017.isnull().sum()"
      ],
      "execution_count": 27,
      "outputs": [
        {
          "output_type": "execute_result",
          "data": {
            "text/plain": [
              "pol_number            0\n",
              "pol_eff_dt            0\n",
              "gender                0\n",
              "date_of_birth         0\n",
              "credit_score          0\n",
              "area                  0\n",
              "traffic_index         0\n",
              "veh_age               0\n",
              "veh_body              0\n",
              "veh_value             0\n",
              "claim_office      50362\n",
              "numclaims             0\n",
              "claimcst0             0\n",
              "annual_premium        0\n",
              "cat_veh_value         0\n",
              "DOB_year              0\n",
              "agecat_new            0\n",
              "dtype: int64"
            ]
          },
          "metadata": {
            "tags": []
          },
          "execution_count": 27
        }
      ]
    },
    {
      "cell_type": "code",
      "metadata": {
        "id": "Ku98Sgf2Gh3C",
        "colab_type": "code",
        "colab": {
          "base_uri": "https://localhost:8080/",
          "height": 221
        },
        "outputId": "fab4fca0-54a0-426c-ea9a-a315970a916f"
      },
      "source": [
        "clean_data_2018.isnull().sum()"
      ],
      "execution_count": 28,
      "outputs": [
        {
          "output_type": "execute_result",
          "data": {
            "text/plain": [
              "quote_number     0\n",
              "gender           0\n",
              "date_of_birth    0\n",
              "credit_score     0\n",
              "area             0\n",
              "traffic_index    0\n",
              "veh_age          0\n",
              "veh_body         0\n",
              "veh_value        0\n",
              "DOB_year         0\n",
              "agecat_new       0\n",
              "dtype: int64"
            ]
          },
          "metadata": {
            "tags": []
          },
          "execution_count": 28
        }
      ]
    },
    {
      "cell_type": "code",
      "metadata": {
        "id": "T9TuFp-TGoaS",
        "colab_type": "code",
        "colab": {
          "base_uri": "https://localhost:8080/",
          "height": 315
        },
        "outputId": "dc2dc65d-c122-4c4c-8e5a-64e25fb479b7"
      },
      "source": [
        "clean_data_2017.hist(column='credit_score')"
      ],
      "execution_count": 29,
      "outputs": [
        {
          "output_type": "execute_result",
          "data": {
            "text/plain": [
              "array([[<matplotlib.axes._subplots.AxesSubplot object at 0x7f14d15149e8>]],\n",
              "      dtype=object)"
            ]
          },
          "metadata": {
            "tags": []
          },
          "execution_count": 29
        },
        {
          "output_type": "display_data",
          "data": {
            "image/png": "[encoded data removed]",
            "text/plain": [
              "<Figure size 432x288 with 1 Axes>"
            ]
          },
          "metadata": {
            "tags": [],
            "needs_background": "light"
          }
        }
      ]
    },
    {
      "cell_type": "code",
      "metadata": {
        "id": "H-5XyDODGsCY",
        "colab_type": "code",
        "colab": {
          "base_uri": "https://localhost:8080/",
          "height": 315
        },
        "outputId": "e88d9de2-df34-42a1-e2cd-8e32084a3fff"
      },
      "source": [
        "clean_data_2017.hist(column='traffic_index')"
      ],
      "execution_count": 30,
      "outputs": [
        {
          "output_type": "execute_result",
          "data": {
            "text/plain": [
              "array([[<matplotlib.axes._subplots.AxesSubplot object at 0x7f14d111c1d0>]],\n",
              "      dtype=object)"
            ]
          },
          "metadata": {
            "tags": []
          },
          "execution_count": 30
        },
        {
          "output_type": "display_data",
          "data": {
            "image/png": "[encoded data removed]",
            "text/plain": [
              "<Figure size 432x288 with 1 Axes>"
            ]
          },
          "metadata": {
            "tags": [],
            "needs_background": "light"
          }
        }
      ]
    },
    {
      "cell_type": "code",
      "metadata": {
        "id": "821iQdKDGyYC",
        "colab_type": "code",
        "colab": {
          "base_uri": "https://localhost:8080/",
          "height": 204
        },
        "outputId": "c49d042c-3484-45f9-c77f-568b5dd58dd6"
      },
      "source": [
        "data_2017=clean_data_2017.drop([\"claim_office\",\"pol_number\",\"pol_eff_dt\",\"cat_veh_value\",\"annual_premium\",\"date_of_birth\",\"DOB_year\"],axis=1)\n",
        "data_2018=clean_data_2018.drop([\"quote_number\",\"date_of_birth\",\"DOB_year\"],axis=1)\n",
        "data_2018.head()"
      ],
      "execution_count": 31,
      "outputs": [
        {
          "output_type": "execute_result",
          "data": {
            "text/html": [
              "<div>\n",
              "<style scoped>\n",
              "    .dataframe tbody tr th:only-of-type {\n",
              "        vertical-align: middle;\n",
              "    }\n",
              "\n",
              "    .dataframe tbody tr th {\n",
              "        vertical-align: top;\n",
              "    }\n",
              "\n",
              "    .dataframe thead th {\n",
              "        text-align: right;\n",
              "    }\n",
              "</style>\n",
              "<table border=\"1\" class=\"dataframe\">\n",
              "  <thead>\n",
              "    <tr style=\"text-align: right;\">\n",
              "      <th></th>\n",
              "      <th>gender</th>\n",
              "      <th>credit_score</th>\n",
              "      <th>area</th>\n",
              "      <th>traffic_index</th>\n",
              "      <th>veh_age</th>\n",
              "      <th>veh_body</th>\n",
              "      <th>veh_value</th>\n",
              "      <th>agecat_new</th>\n",
              "    </tr>\n",
              "  </thead>\n",
              "  <tbody>\n",
              "    <tr>\n",
              "      <th>0</th>\n",
              "      <td>F</td>\n",
              "      <td>750.0</td>\n",
              "      <td>C</td>\n",
              "      <td>124.500000</td>\n",
              "      <td>2</td>\n",
              "      <td>HBACK</td>\n",
              "      <td>0.741937</td>\n",
              "      <td>2</td>\n",
              "    </tr>\n",
              "    <tr>\n",
              "      <th>1</th>\n",
              "      <td>M</td>\n",
              "      <td>567.0</td>\n",
              "      <td>F</td>\n",
              "      <td>104.416636</td>\n",
              "      <td>3</td>\n",
              "      <td>STNWG</td>\n",
              "      <td>1.124605</td>\n",
              "      <td>2</td>\n",
              "    </tr>\n",
              "    <tr>\n",
              "      <th>2</th>\n",
              "      <td>M</td>\n",
              "      <td>378.0</td>\n",
              "      <td>D</td>\n",
              "      <td>111.400000</td>\n",
              "      <td>3</td>\n",
              "      <td>HDTOP</td>\n",
              "      <td>1.210154</td>\n",
              "      <td>6</td>\n",
              "    </tr>\n",
              "    <tr>\n",
              "      <th>3</th>\n",
              "      <td>F</td>\n",
              "      <td>807.0</td>\n",
              "      <td>E</td>\n",
              "      <td>104.416636</td>\n",
              "      <td>4</td>\n",
              "      <td>UTE</td>\n",
              "      <td>1.088225</td>\n",
              "      <td>5</td>\n",
              "    </tr>\n",
              "    <tr>\n",
              "      <th>4</th>\n",
              "      <td>M</td>\n",
              "      <td>844.0</td>\n",
              "      <td>C</td>\n",
              "      <td>111.000000</td>\n",
              "      <td>1</td>\n",
              "      <td>HBACK</td>\n",
              "      <td>1.088225</td>\n",
              "      <td>4</td>\n",
              "    </tr>\n",
              "  </tbody>\n",
              "</table>\n",
              "</div>"
            ],
            "text/plain": [
              "  gender  credit_score area  ...  veh_body  veh_value agecat_new\n",
              "0      F         750.0    C  ...     HBACK   0.741937          2\n",
              "1      M         567.0    F  ...     STNWG   1.124605          2\n",
              "2      M         378.0    D  ...     HDTOP   1.210154          6\n",
              "3      F         807.0    E  ...       UTE   1.088225          5\n",
              "4      M         844.0    C  ...     HBACK   1.088225          4\n",
              "\n",
              "[5 rows x 8 columns]"
            ]
          },
          "metadata": {
            "tags": []
          },
          "execution_count": 31
        }
      ]
    },
    {
      "cell_type": "markdown",
      "metadata": {
        "id": "PFr99BpX8t_J",
        "colab_type": "text"
      },
      "source": [
        "#Creating Dummy Variable"
      ]
    },
    {
      "cell_type": "code",
      "metadata": {
        "id": "FP5rrCCh8xh3",
        "colab_type": "code",
        "colab": {}
      },
      "source": [
        "# Dummy variable conversion using pd.dummies\n",
        "\n",
        "data_2017=pd.get_dummies(data=data_2017, columns=['gender', 'area','veh_body'],drop_first=True)\n",
        "data_2018=pd.get_dummies(data=data_2018, columns=['gender', 'area','veh_body'],drop_first=True)"
      ],
      "execution_count": 32,
      "outputs": []
    },
    {
      "cell_type": "code",
      "metadata": {
        "id": "ytgSDi1f9Fl_",
        "colab_type": "code",
        "colab": {}
      },
      "source": [
        "def claim(x):\n",
        "    \"\"\" Function converts claims above 0 to value 1,in order to creat a \n",
        "        class of 1 and 0 for those who claimed and those who did not\"\"\"\n",
        "    if x == 0:\n",
        "        return 0\n",
        "    else:\n",
        "        return 1\n",
        "    \n",
        "data_2017[\"claim\"] = data_2017[\"numclaims\"].apply(claim)"
      ],
      "execution_count": 33,
      "outputs": []
    },
    {
      "cell_type": "code",
      "metadata": {
        "id": "jsg89Qvp-ALw",
        "colab_type": "code",
        "colab": {
          "base_uri": "https://localhost:8080/",
          "height": 279
        },
        "outputId": "c9ecd7a4-7828-4120-b49a-ed390aeacc12"
      },
      "source": [
        "#Distribution of Claim class\n",
        "\n",
        "sns.countplot(data_2017.claim);\n",
        "plt.xlabel('Filed Claim');\n",
        "plt.ylabel('Number of occurrences');\n",
        "plt.show()"
      ],
      "execution_count": 34,
      "outputs": [
        {
          "output_type": "display_data",
          "data": {
            "image/png": "[encoded data removed]",
            "text/plain": [
              "<Figure size 432x288 with 1 Axes>"
            ]
          },
          "metadata": {
            "tags": [],
            "needs_background": "light"
          }
        }
      ]
    },
    {
      "cell_type": "code",
      "metadata": {
        "id": "sbjC6Yz0-Eat",
        "colab_type": "code",
        "colab": {}
      },
      "source": [
        "#Since our minority class consist of 16% of the total data, we dont need to resample. We can simply use Stratefied KFold to sample it in our training and test set"
      ],
      "execution_count": null,
      "outputs": []
    },
    {
      "cell_type": "code",
      "metadata": {
        "id": "Td0uamV3-Qef",
        "colab_type": "code",
        "colab": {}
      },
      "source": [
        "#Creating test and train set \n",
        "\n",
        "\n",
        "X=data_2017.drop([\"numclaims\",\"claimcst0\",\"claim\"],axis=1)\n",
        "y1=data_2017[\"claimcst0\"]\n",
        "y=data_2017[\"claim\"]\n",
        "x_test=data_2018"
      ],
      "execution_count": 35,
      "outputs": []
    },
    {
      "cell_type": "code",
      "metadata": {
        "id": "ef57m4sw-TNA",
        "colab_type": "code",
        "colab": {
          "base_uri": "https://localhost:8080/",
          "height": 425
        },
        "outputId": "48677650-9074-49af-feeb-956bbc90b8b7"
      },
      "source": [
        "X.isnull().sum()"
      ],
      "execution_count": 36,
      "outputs": [
        {
          "output_type": "execute_result",
          "data": {
            "text/plain": [
              "credit_score      0\n",
              "traffic_index     0\n",
              "veh_age           0\n",
              "veh_value         0\n",
              "agecat_new        0\n",
              "gender_M          0\n",
              "area_B            0\n",
              "area_C            0\n",
              "area_D            0\n",
              "area_E            0\n",
              "area_F            0\n",
              "veh_body_CONVT    0\n",
              "veh_body_COUPE    0\n",
              "veh_body_HBACK    0\n",
              "veh_body_HDTOP    0\n",
              "veh_body_MCARA    0\n",
              "veh_body_MIBUS    0\n",
              "veh_body_PANVN    0\n",
              "veh_body_RDSTR    0\n",
              "veh_body_SEDAN    0\n",
              "veh_body_STNWG    0\n",
              "veh_body_TRUCK    0\n",
              "veh_body_UTE      0\n",
              "dtype: int64"
            ]
          },
          "metadata": {
            "tags": []
          },
          "execution_count": 36
        }
      ]
    },
    {
      "cell_type": "code",
      "metadata": {
        "id": "NMnVVXDI-ZE0",
        "colab_type": "code",
        "colab": {
          "base_uri": "https://localhost:8080/",
          "height": 170
        },
        "outputId": "8a093159-5720-4052-f297-dca6361f9050"
      },
      "source": [
        "# Grid search\n",
        "logreg = LogisticRegression(class_weight='balanced')\n",
        "param = {'C': [0.001, 0.003, 0.005, 0.01, 0.03, 0.05, 0.1, 0.3, 0.5, 1]}\n",
        "clf = GridSearchCV(logreg, param, scoring='roc_auc', refit=True, cv=3, n_jobs=8)\n",
        "clf.fit(X, y)\n",
        "print('Best roc_auc: {:.4}, with best C: {}'.format(clf.best_score_, clf.best_params_['C']))"
      ],
      "execution_count": 37,
      "outputs": [
        {
          "output_type": "stream",
          "text": [
            "Best roc_auc: 0.8118, with best C: 0.3\n"
          ],
          "name": "stdout"
        },
        {
          "output_type": "stream",
          "text": [
            "/usr/local/lib/python3.6/dist-packages/sklearn/linear_model/_logistic.py:940: ConvergenceWarning: lbfgs failed to converge (status=1):\n",
            "STOP: TOTAL NO. of ITERATIONS REACHED LIMIT.\n",
            "\n",
            "Increase the number of iterations (max_iter) or scale the data as shown in:\n",
            "    https://scikit-learn.org/stable/modules/preprocessing.html\n",
            "Please also refer to the documentation for alternative solver options:\n",
            "    https://scikit-learn.org/stable/modules/linear_model.html#logistic-regression\n",
            "  extra_warning_msg=_LOGISTIC_SOLVER_CONVERGENCE_MSG)\n"
          ],
          "name": "stderr"
        }
      ]
    },
    {
      "cell_type": "code",
      "metadata": {
        "id": "C-ILVT04-crp",
        "colab_type": "code",
        "colab": {
          "base_uri": "https://localhost:8080/",
          "height": 1000
        },
        "outputId": "df41691b-774e-40a4-fc07-9c6ec24c5bc7"
      },
      "source": [
        "seed = 45\n",
        "kf = StratifiedKFold(n_splits=10, random_state=seed, shuffle=True)\n",
        "pred_test_full = 0\n",
        "cv_score = []\n",
        "i = 1\n",
        "for train_index, test_index in kf.split(X, y):\n",
        "    print('\\n{} of kfold {}'.format(i, kf.n_splits))\n",
        "    xtr, xvl = X.loc[train_index], X.loc[test_index]\n",
        "    ytr, yvl = y[train_index], y[test_index]\n",
        "\n",
        "    lr = LogisticRegression(class_weight='balanced', C=0.005)\n",
        "    lr.fit(xtr, ytr)\n",
        "    pred_test = lr.predict_proba(xvl)[:, 1]\n",
        "    score = roc_auc_score(yvl, pred_test)\n",
        "    print('roc_auc_score', score)\n",
        "    cv_score.append(score)\n",
        "    pred_test_full += lr.predict_proba(x_test)[:, 1]\n",
        "    i += 1\n",
        "\n",
        "proba = lr.predict_proba(xvl)[:, 1]\n",
        "fpr, tpr, threshold = roc_curve(yvl, proba)\n",
        "auc_val = auc(fpr, tpr)\n",
        "\n",
        "plt.figure(figsize=(14, 8))\n",
        "plt.title('Reciever Operating Charactaristics')\n",
        "plt.plot(fpr, tpr, 'b', label='AUC = %0.2f' % auc_val)\n",
        "plt.legend(loc='lower right')\n",
        "plt.plot([0, 1], [0, 1], 'r--')\n",
        "plt.ylabel('True positive rate')\n",
        "plt.xlabel('False positive rate')"
      ],
      "execution_count": 38,
      "outputs": [
        {
          "output_type": "stream",
          "text": [
            "\n",
            "1 of kfold 10\n"
          ],
          "name": "stdout"
        },
        {
          "output_type": "stream",
          "text": [
            "/usr/local/lib/python3.6/dist-packages/sklearn/linear_model/_logistic.py:940: ConvergenceWarning: lbfgs failed to converge (status=1):\n",
            "STOP: TOTAL NO. of ITERATIONS REACHED LIMIT.\n",
            "\n",
            "Increase the number of iterations (max_iter) or scale the data as shown in:\n",
            "    https://scikit-learn.org/stable/modules/preprocessing.html\n",
            "Please also refer to the documentation for alternative solver options:\n",
            "    https://scikit-learn.org/stable/modules/linear_model.html#logistic-regression\n",
            "  extra_warning_msg=_LOGISTIC_SOLVER_CONVERGENCE_MSG)\n"
          ],
          "name": "stderr"
        },
        {
          "output_type": "stream",
          "text": [
            "roc_auc_score 0.8041007016670852\n",
            "\n",
            "2 of kfold 10\n"
          ],
          "name": "stdout"
        },
        {
          "output_type": "stream",
          "text": [
            "/usr/local/lib/python3.6/dist-packages/sklearn/linear_model/_logistic.py:940: ConvergenceWarning: lbfgs failed to converge (status=1):\n",
            "STOP: TOTAL NO. of ITERATIONS REACHED LIMIT.\n",
            "\n",
            "Increase the number of iterations (max_iter) or scale the data as shown in:\n",
            "    https://scikit-learn.org/stable/modules/preprocessing.html\n",
            "Please also refer to the documentation for alternative solver options:\n",
            "    https://scikit-learn.org/stable/modules/linear_model.html#logistic-regression\n",
            "  extra_warning_msg=_LOGISTIC_SOLVER_CONVERGENCE_MSG)\n"
          ],
          "name": "stderr"
        },
        {
          "output_type": "stream",
          "text": [
            "roc_auc_score 0.816443462940541\n",
            "\n",
            "3 of kfold 10\n"
          ],
          "name": "stdout"
        },
        {
          "output_type": "stream",
          "text": [
            "/usr/local/lib/python3.6/dist-packages/sklearn/linear_model/_logistic.py:940: ConvergenceWarning: lbfgs failed to converge (status=1):\n",
            "STOP: TOTAL NO. of ITERATIONS REACHED LIMIT.\n",
            "\n",
            "Increase the number of iterations (max_iter) or scale the data as shown in:\n",
            "    https://scikit-learn.org/stable/modules/preprocessing.html\n",
            "Please also refer to the documentation for alternative solver options:\n",
            "    https://scikit-learn.org/stable/modules/linear_model.html#logistic-regression\n",
            "  extra_warning_msg=_LOGISTIC_SOLVER_CONVERGENCE_MSG)\n"
          ],
          "name": "stderr"
        },
        {
          "output_type": "stream",
          "text": [
            "roc_auc_score 0.8238168734463804\n",
            "\n",
            "4 of kfold 10\n"
          ],
          "name": "stdout"
        },
        {
          "output_type": "stream",
          "text": [
            "/usr/local/lib/python3.6/dist-packages/sklearn/linear_model/_logistic.py:940: ConvergenceWarning: lbfgs failed to converge (status=1):\n",
            "STOP: TOTAL NO. of ITERATIONS REACHED LIMIT.\n",
            "\n",
            "Increase the number of iterations (max_iter) or scale the data as shown in:\n",
            "    https://scikit-learn.org/stable/modules/preprocessing.html\n",
            "Please also refer to the documentation for alternative solver options:\n",
            "    https://scikit-learn.org/stable/modules/linear_model.html#logistic-regression\n",
            "  extra_warning_msg=_LOGISTIC_SOLVER_CONVERGENCE_MSG)\n"
          ],
          "name": "stderr"
        },
        {
          "output_type": "stream",
          "text": [
            "roc_auc_score 0.8211635942054694\n",
            "\n",
            "5 of kfold 10\n"
          ],
          "name": "stdout"
        },
        {
          "output_type": "stream",
          "text": [
            "/usr/local/lib/python3.6/dist-packages/sklearn/linear_model/_logistic.py:940: ConvergenceWarning: lbfgs failed to converge (status=1):\n",
            "STOP: TOTAL NO. of ITERATIONS REACHED LIMIT.\n",
            "\n",
            "Increase the number of iterations (max_iter) or scale the data as shown in:\n",
            "    https://scikit-learn.org/stable/modules/preprocessing.html\n",
            "Please also refer to the documentation for alternative solver options:\n",
            "    https://scikit-learn.org/stable/modules/linear_model.html#logistic-regression\n",
            "  extra_warning_msg=_LOGISTIC_SOLVER_CONVERGENCE_MSG)\n"
          ],
          "name": "stderr"
        },
        {
          "output_type": "stream",
          "text": [
            "roc_auc_score 0.7972484452916074\n",
            "\n",
            "6 of kfold 10\n"
          ],
          "name": "stdout"
        },
        {
          "output_type": "stream",
          "text": [
            "/usr/local/lib/python3.6/dist-packages/sklearn/linear_model/_logistic.py:940: ConvergenceWarning: lbfgs failed to converge (status=1):\n",
            "STOP: TOTAL NO. of ITERATIONS REACHED LIMIT.\n",
            "\n",
            "Increase the number of iterations (max_iter) or scale the data as shown in:\n",
            "    https://scikit-learn.org/stable/modules/preprocessing.html\n",
            "Please also refer to the documentation for alternative solver options:\n",
            "    https://scikit-learn.org/stable/modules/linear_model.html#logistic-regression\n",
            "  extra_warning_msg=_LOGISTIC_SOLVER_CONVERGENCE_MSG)\n"
          ],
          "name": "stderr"
        },
        {
          "output_type": "stream",
          "text": [
            "roc_auc_score 0.812811367327723\n",
            "\n",
            "7 of kfold 10\n"
          ],
          "name": "stdout"
        },
        {
          "output_type": "stream",
          "text": [
            "/usr/local/lib/python3.6/dist-packages/sklearn/linear_model/_logistic.py:940: ConvergenceWarning: lbfgs failed to converge (status=1):\n",
            "STOP: TOTAL NO. of ITERATIONS REACHED LIMIT.\n",
            "\n",
            "Increase the number of iterations (max_iter) or scale the data as shown in:\n",
            "    https://scikit-learn.org/stable/modules/preprocessing.html\n",
            "Please also refer to the documentation for alternative solver options:\n",
            "    https://scikit-learn.org/stable/modules/linear_model.html#logistic-regression\n",
            "  extra_warning_msg=_LOGISTIC_SOLVER_CONVERGENCE_MSG)\n"
          ],
          "name": "stderr"
        },
        {
          "output_type": "stream",
          "text": [
            "roc_auc_score 0.8032035743444804\n",
            "\n",
            "8 of kfold 10\n"
          ],
          "name": "stdout"
        },
        {
          "output_type": "stream",
          "text": [
            "/usr/local/lib/python3.6/dist-packages/sklearn/linear_model/_logistic.py:940: ConvergenceWarning: lbfgs failed to converge (status=1):\n",
            "STOP: TOTAL NO. of ITERATIONS REACHED LIMIT.\n",
            "\n",
            "Increase the number of iterations (max_iter) or scale the data as shown in:\n",
            "    https://scikit-learn.org/stable/modules/preprocessing.html\n",
            "Please also refer to the documentation for alternative solver options:\n",
            "    https://scikit-learn.org/stable/modules/linear_model.html#logistic-regression\n",
            "  extra_warning_msg=_LOGISTIC_SOLVER_CONVERGENCE_MSG)\n"
          ],
          "name": "stderr"
        },
        {
          "output_type": "stream",
          "text": [
            "roc_auc_score 0.81568024282989\n",
            "\n",
            "9 of kfold 10\n"
          ],
          "name": "stdout"
        },
        {
          "output_type": "stream",
          "text": [
            "/usr/local/lib/python3.6/dist-packages/sklearn/linear_model/_logistic.py:940: ConvergenceWarning: lbfgs failed to converge (status=1):\n",
            "STOP: TOTAL NO. of ITERATIONS REACHED LIMIT.\n",
            "\n",
            "Increase the number of iterations (max_iter) or scale the data as shown in:\n",
            "    https://scikit-learn.org/stable/modules/preprocessing.html\n",
            "Please also refer to the documentation for alternative solver options:\n",
            "    https://scikit-learn.org/stable/modules/linear_model.html#logistic-regression\n",
            "  extra_warning_msg=_LOGISTIC_SOLVER_CONVERGENCE_MSG)\n"
          ],
          "name": "stderr"
        },
        {
          "output_type": "stream",
          "text": [
            "roc_auc_score 0.8211267706016185\n",
            "\n",
            "10 of kfold 10\n",
            "roc_auc_score 0.7994069815969089\n"
          ],
          "name": "stdout"
        },
        {
          "output_type": "stream",
          "text": [
            "/usr/local/lib/python3.6/dist-packages/sklearn/linear_model/_logistic.py:940: ConvergenceWarning: lbfgs failed to converge (status=1):\n",
            "STOP: TOTAL NO. of ITERATIONS REACHED LIMIT.\n",
            "\n",
            "Increase the number of iterations (max_iter) or scale the data as shown in:\n",
            "    https://scikit-learn.org/stable/modules/preprocessing.html\n",
            "Please also refer to the documentation for alternative solver options:\n",
            "    https://scikit-learn.org/stable/modules/linear_model.html#logistic-regression\n",
            "  extra_warning_msg=_LOGISTIC_SOLVER_CONVERGENCE_MSG)\n"
          ],
          "name": "stderr"
        },
        {
          "output_type": "execute_result",
          "data": {
            "text/plain": [
              "Text(0.5, 0, 'False positive rate')"
            ]
          },
          "metadata": {
            "tags": []
          },
          "execution_count": 38
        },
        {
          "output_type": "display_data",
          "data": {
            "image/png": "[encoded data removed]",
            "text/plain": [
              "<Figure size 1008x576 with 1 Axes>"
            ]
          },
          "metadata": {
            "tags": [],
            "needs_background": "light"
          }
        }
      ]
    },
    {
      "cell_type": "code",
      "metadata": {
        "id": "aFfKK7_9-nww",
        "colab_type": "code",
        "colab": {
          "base_uri": "https://localhost:8080/",
          "height": 442
        },
        "outputId": "b0afb3f7-8e39-48b2-9fec-19b92549ae89"
      },
      "source": [
        "param_grid={'n_estimators':[100,200],\n",
        "            'learning_rate': [0.1, 0.05, 0.02, 0.01],\n",
        "            'max_depth':[4,6],\n",
        "            'min_samples_leaf':[5,9], \n",
        "            'max_features':[1.0,0.3,0.1]\n",
        "           }\n",
        "            \n",
        "\n",
        "gbrt = GradientBoostingClassifier(random_state = 0)\n",
        "grid_search = GridSearchCV(gbrt, param_grid, cv=3,scoring='roc_auc')\n",
        "grid_search.fit(X, y)"
      ],
      "execution_count": 39,
      "outputs": [
        {
          "output_type": "execute_result",
          "data": {
            "text/plain": [
              "GridSearchCV(cv=3, error_score=nan,\n",
              "             estimator=GradientBoostingClassifier(ccp_alpha=0.0,\n",
              "                                                  criterion='friedman_mse',\n",
              "                                                  init=None, learning_rate=0.1,\n",
              "                                                  loss='deviance', max_depth=3,\n",
              "                                                  max_features=None,\n",
              "                                                  max_leaf_nodes=None,\n",
              "                                                  min_impurity_decrease=0.0,\n",
              "                                                  min_impurity_split=None,\n",
              "                                                  min_samples_leaf=1,\n",
              "                                                  min_samples_split=2,\n",
              "                                                  min_weight_fraction_leaf=0.0,\n",
              "                                                  n_estimators=100,\n",
              "                                                  n_iter_no_c...\n",
              "                                                  random_state=0, subsample=1.0,\n",
              "                                                  tol=0.0001,\n",
              "                                                  validation_fraction=0.1,\n",
              "                                                  verbose=0, warm_start=False),\n",
              "             iid='deprecated', n_jobs=None,\n",
              "             param_grid={'learning_rate': [0.1, 0.05, 0.02, 0.01],\n",
              "                         'max_depth': [4, 6], 'max_features': [1.0, 0.3, 0.1],\n",
              "                         'min_samples_leaf': [5, 9],\n",
              "                         'n_estimators': [100, 200]},\n",
              "             pre_dispatch='2*n_jobs', refit=True, return_train_score=False,\n",
              "             scoring='roc_auc', verbose=0)"
            ]
          },
          "metadata": {
            "tags": []
          },
          "execution_count": 39
        }
      ]
    },
    {
      "cell_type": "code",
      "metadata": {
        "id": "9I7W4Pjm-t9S",
        "colab_type": "code",
        "colab": {
          "base_uri": "https://localhost:8080/",
          "height": 34
        },
        "outputId": "64073380-7485-437d-80bf-900fab619e19"
      },
      "source": [
        "print(grid_search.best_params_)"
      ],
      "execution_count": 40,
      "outputs": [
        {
          "output_type": "stream",
          "text": [
            "{'learning_rate': 0.1, 'max_depth': 4, 'max_features': 0.3, 'min_samples_leaf': 5, 'n_estimators': 100}\n"
          ],
          "name": "stdout"
        }
      ]
    },
    {
      "cell_type": "code",
      "metadata": {
        "id": "hiNRvZAo-zOt",
        "colab_type": "code",
        "colab": {
          "base_uri": "https://localhost:8080/",
          "height": 1000
        },
        "outputId": "06b12698-df45-49e3-c282-cfd1a7a3a2f4"
      },
      "source": [
        "seed = 45\n",
        "kf = StratifiedKFold(n_splits=10, random_state=seed, shuffle=True)\n",
        "pred_test_full = 0\n",
        "cv_score = []\n",
        "i = 1\n",
        "for train_index, test_index in kf.split(X, y):\n",
        "    print('\\n{} of kfold {}'.format(i, kf.n_splits))\n",
        "    xtr, xvl = X.loc[train_index], X.loc[test_index]\n",
        "    ytr, yvl = y[train_index], y[test_index]\n",
        "\n",
        "    gb = GradientBoostingClassifier(learning_rate=0.1,max_depth=4,max_features=0.3,min_samples_leaf=5,n_estimators=100)\n",
        "    gb.fit(xtr, ytr)\n",
        "    pred_test = gb.predict_proba(xvl)[:, 1]\n",
        "    score = roc_auc_score(yvl, pred_test)\n",
        "    print('roc_auc_score', score)\n",
        "    cv_score.append(score)\n",
        "    pred_test_full += gb.predict_proba(x_test)[:, 1]\n",
        "    i += 1\n",
        "\n",
        "proba = gb.predict_proba(xvl)[:, 1]\n",
        "fpr, tpr, threshold = roc_curve(yvl, proba)\n",
        "auc_val = auc(fpr, tpr)\n",
        "\n",
        "plt.figure(figsize=(14, 8))\n",
        "plt.title('Reciever Operating Charactaristics')\n",
        "plt.plot(fpr, tpr, 'b', label='AUC = %0.2f' % auc_val)\n",
        "plt.legend(loc='lower right')\n",
        "plt.plot([0, 1], [0, 1], 'r--')\n",
        "plt.ylabel('True positive rate')\n",
        "plt.xlabel('False positive rate')"
      ],
      "execution_count": 41,
      "outputs": [
        {
          "output_type": "stream",
          "text": [
            "\n",
            "1 of kfold 10\n",
            "roc_auc_score 0.8165054172404367\n",
            "\n",
            "2 of kfold 10\n",
            "roc_auc_score 0.825163184260995\n",
            "\n",
            "3 of kfold 10\n",
            "roc_auc_score 0.8357505917513544\n",
            "\n",
            "4 of kfold 10\n",
            "roc_auc_score 0.8361886144584516\n",
            "\n",
            "5 of kfold 10\n",
            "roc_auc_score 0.8121073633745309\n",
            "\n",
            "6 of kfold 10\n",
            "roc_auc_score 0.8248134864667317\n",
            "\n",
            "7 of kfold 10\n",
            "roc_auc_score 0.8131697045479923\n",
            "\n",
            "8 of kfold 10\n",
            "roc_auc_score 0.8238196451154877\n",
            "\n",
            "9 of kfold 10\n",
            "roc_auc_score 0.8279841769370206\n",
            "\n",
            "10 of kfold 10\n",
            "roc_auc_score 0.8158820797337931\n"
          ],
          "name": "stdout"
        },
        {
          "output_type": "execute_result",
          "data": {
            "text/plain": [
              "Text(0.5, 0, 'False positive rate')"
            ]
          },
          "metadata": {
            "tags": []
          },
          "execution_count": 41
        },
        {
          "output_type": "display_data",
          "data": {
            "image/png": "[encoded data removed]",
            "text/plain": [
              "<Figure size 1008x576 with 1 Axes>"
            ]
          },
          "metadata": {
            "tags": [],
            "needs_background": "light"
          }
        }
      ]
    },
    {
      "cell_type": "code",
      "metadata": {
        "id": "IW7PmFyn-2zn",
        "colab_type": "code",
        "colab": {
          "base_uri": "https://localhost:8080/",
          "height": 170
        },
        "outputId": "9fa7fb75-b74a-4443-c1d0-7a93468ac44b"
      },
      "source": [
        "print(classification_report(y,gb.predict(X)))"
      ],
      "execution_count": 42,
      "outputs": [
        {
          "output_type": "stream",
          "text": [
            "              precision    recall  f1-score   support\n",
            "\n",
            "           0       0.88      0.97      0.92     50362\n",
            "           1       0.68      0.32      0.44     10030\n",
            "\n",
            "    accuracy                           0.86     60392\n",
            "   macro avg       0.78      0.65      0.68     60392\n",
            "weighted avg       0.84      0.86      0.84     60392\n",
            "\n"
          ],
          "name": "stdout"
        }
      ]
    },
    {
      "cell_type": "code",
      "metadata": {
        "id": "VbTHOLBO_L6B",
        "colab_type": "code",
        "colab": {}
      },
      "source": [
        "#Averaging the total probability got in 10 iterations"
      ],
      "execution_count": 43,
      "outputs": []
    },
    {
      "cell_type": "code",
      "metadata": {
        "id": "SRbg7vu-_PTc",
        "colab_type": "code",
        "colab": {}
      },
      "source": [
        "y_pred=pred_test_full/10"
      ],
      "execution_count": 45,
      "outputs": []
    },
    {
      "cell_type": "code",
      "metadata": {
        "id": "__v7jdPp_S3Z",
        "colab_type": "code",
        "colab": {}
      },
      "source": [
        "#Since our train data had only 16% customers who had claims, we will keep the same threshold in the test data, so if probability of class 1 thats is the class for claim is more than 0.16, we will skip that and keep the rest as customers having low probability of claim"
      ],
      "execution_count": null,
      "outputs": []
    },
    {
      "cell_type": "code",
      "metadata": {
        "id": "ae93YMZQ_Wgz",
        "colab_type": "code",
        "colab": {}
      },
      "source": [
        "Low = pd.DataFrame({'QuoteNumber':clean_data_2018['quote_number'],'claim_prob':y_pred})\n",
        "Low['claim_low'] = Low['claim_prob'].apply(lambda x: 1 if x>0.1666 else 0)"
      ],
      "execution_count": 46,
      "outputs": []
    },
    {
      "cell_type": "code",
      "metadata": {
        "id": "Kp_TBU9y_Zll",
        "colab_type": "code",
        "colab": {
          "base_uri": "https://localhost:8080/",
          "height": 204
        },
        "outputId": "645f450a-7063-449a-e7aa-29f8e6581127"
      },
      "source": [
        "Low[Low.claim_prob>.16].head()"
      ],
      "execution_count": 47,
      "outputs": [
        {
          "output_type": "execute_result",
          "data": {
            "text/html": [
              "<div>\n",
              "<style scoped>\n",
              "    .dataframe tbody tr th:only-of-type {\n",
              "        vertical-align: middle;\n",
              "    }\n",
              "\n",
              "    .dataframe tbody tr th {\n",
              "        vertical-align: top;\n",
              "    }\n",
              "\n",
              "    .dataframe thead th {\n",
              "        text-align: right;\n",
              "    }\n",
              "</style>\n",
              "<table border=\"1\" class=\"dataframe\">\n",
              "  <thead>\n",
              "    <tr style=\"text-align: right;\">\n",
              "      <th></th>\n",
              "      <th>QuoteNumber</th>\n",
              "      <th>claim_prob</th>\n",
              "      <th>claim_low</th>\n",
              "    </tr>\n",
              "  </thead>\n",
              "  <tbody>\n",
              "    <tr>\n",
              "      <th>1</th>\n",
              "      <td>16732441</td>\n",
              "      <td>0.413016</td>\n",
              "      <td>1</td>\n",
              "    </tr>\n",
              "    <tr>\n",
              "      <th>2</th>\n",
              "      <td>68744228</td>\n",
              "      <td>0.840514</td>\n",
              "      <td>1</td>\n",
              "    </tr>\n",
              "    <tr>\n",
              "      <th>6</th>\n",
              "      <td>58572612</td>\n",
              "      <td>0.260831</td>\n",
              "      <td>1</td>\n",
              "    </tr>\n",
              "    <tr>\n",
              "      <th>11</th>\n",
              "      <td>35005918</td>\n",
              "      <td>0.328117</td>\n",
              "      <td>1</td>\n",
              "    </tr>\n",
              "    <tr>\n",
              "      <th>16</th>\n",
              "      <td>75159402</td>\n",
              "      <td>0.187067</td>\n",
              "      <td>1</td>\n",
              "    </tr>\n",
              "  </tbody>\n",
              "</table>\n",
              "</div>"
            ],
            "text/plain": [
              "    QuoteNumber  claim_prob  claim_low\n",
              "1      16732441    0.413016          1\n",
              "2      68744228    0.840514          1\n",
              "6      58572612    0.260831          1\n",
              "11     35005918    0.328117          1\n",
              "16     75159402    0.187067          1"
            ]
          },
          "metadata": {
            "tags": []
          },
          "execution_count": 47
        }
      ]
    },
    {
      "cell_type": "code",
      "metadata": {
        "id": "RimyRMSn_eos",
        "colab_type": "code",
        "colab": {
          "base_uri": "https://localhost:8080/",
          "height": 85
        },
        "outputId": "fc40c4ff-8826-41c2-a88c-72be7e3db034"
      },
      "source": [
        "#Number of cusotmer predicted as having low claims\n",
        "\n",
        "Low[Low.claim_low==0].count()"
      ],
      "execution_count": 48,
      "outputs": [
        {
          "output_type": "execute_result",
          "data": {
            "text/plain": [
              "QuoteNumber    5105\n",
              "claim_prob     5105\n",
              "claim_low      5105\n",
              "dtype: int64"
            ]
          },
          "metadata": {
            "tags": []
          },
          "execution_count": 48
        }
      ]
    },
    {
      "cell_type": "code",
      "metadata": {
        "id": "UcHducOX_kkq",
        "colab_type": "code",
        "colab": {}
      },
      "source": [
        "# Adding probability metric to our original dataset for future use\n",
        "df_2018[\"claim\"]=Low.claim_low\n",
        "data_2018[\"claim\"]=Low.claim_low"
      ],
      "execution_count": 49,
      "outputs": []
    },
    {
      "cell_type": "markdown",
      "metadata": {
        "id": "XHO0LIPM_oDC",
        "colab_type": "text"
      },
      "source": [
        "#Predicting Claim Severity for future with those who has probability more than 0.16 and are identified as potential customers for asking claims"
      ]
    },
    {
      "cell_type": "code",
      "metadata": {
        "id": "UIZriNP9_pjW",
        "colab_type": "code",
        "colab": {}
      },
      "source": [
        "# creating new dataframe for regression, keeping only those who had claim in 2017, \n",
        "# and those predicted for claim in 2018\n",
        "\n",
        "claim_severity_train=data_2017[data_2017.claim>0]\n",
        "claim_severity_test=data_2018[data_2018.claim>0]"
      ],
      "execution_count": 50,
      "outputs": []
    },
    {
      "cell_type": "code",
      "metadata": {
        "id": "mgQK5sfe_sde",
        "colab_type": "code",
        "colab": {}
      },
      "source": [
        "#Creating metric for cost per claim"
      ],
      "execution_count": 51,
      "outputs": []
    },
    {
      "cell_type": "code",
      "metadata": {
        "id": "gVJrhWfz_vbp",
        "colab_type": "code",
        "colab": {
          "base_uri": "https://localhost:8080/",
          "height": 119
        },
        "outputId": "ed532db2-5ae5-4c08-8c05-b9c17e2a5e8f"
      },
      "source": [
        "claim_severity_train[\"amountperclaim\"]=(claim_severity_train.claimcst0/claim_severity_train.numclaims)"
      ],
      "execution_count": 52,
      "outputs": [
        {
          "output_type": "stream",
          "text": [
            "/usr/local/lib/python3.6/dist-packages/ipykernel_launcher.py:1: SettingWithCopyWarning: \n",
            "A value is trying to be set on a copy of a slice from a DataFrame.\n",
            "Try using .loc[row_indexer,col_indexer] = value instead\n",
            "\n",
            "See the caveats in the documentation: https://pandas.pydata.org/pandas-docs/stable/user_guide/indexing.html#returning-a-view-versus-a-copy\n",
            "  \"\"\"Entry point for launching an IPython kernel.\n"
          ],
          "name": "stderr"
        }
      ]
    },
    {
      "cell_type": "markdown",
      "metadata": {
        "id": "clpeOkhR_1th",
        "colab_type": "text"
      },
      "source": [
        "#Looking at the distribution of cost per claim amount"
      ]
    },
    {
      "cell_type": "code",
      "metadata": {
        "id": "r2OOkvBl_ya-",
        "colab_type": "code",
        "colab": {
          "base_uri": "https://localhost:8080/",
          "height": 500
        },
        "outputId": "f58f6d92-bf3e-421e-8022-6e85ba70e23c"
      },
      "source": [
        "claim_severity_train.amountperclaim.hist(figsize=(8,8),bins=50)"
      ],
      "execution_count": 53,
      "outputs": [
        {
          "output_type": "execute_result",
          "data": {
            "text/plain": [
              "<matplotlib.axes._subplots.AxesSubplot at 0x7f14d0a54d68>"
            ]
          },
          "metadata": {
            "tags": []
          },
          "execution_count": 53
        },
        {
          "output_type": "display_data",
          "data": {
            "image/png": "[encoded data removed]",
            "text/plain": [
              "<Figure size 576x576 with 1 Axes>"
            ]
          },
          "metadata": {
            "tags": [],
            "needs_background": "light"
          }
        }
      ]
    },
    {
      "cell_type": "markdown",
      "metadata": {
        "id": "KpYiHKtI_0rU",
        "colab_type": "text"
      },
      "source": [
        ""
      ]
    },
    {
      "cell_type": "markdown",
      "metadata": {
        "id": "FSXWH3BX_8Xb",
        "colab_type": "text"
      },
      "source": [
        "#Since our data is skewed, we will do a log transform for this metric in order to remove skewness"
      ]
    },
    {
      "cell_type": "code",
      "metadata": {
        "id": "BdMn5nz8AATu",
        "colab_type": "code",
        "colab": {
          "base_uri": "https://localhost:8080/",
          "height": 602
        },
        "outputId": "77863af4-7451-4109-df93-b2f92fa278ad"
      },
      "source": [
        "claim_severity_train[\"log_amount\"]=(claim_severity_train.amountperclaim+1).apply(np.log)\n",
        "claim_severity_train[\"log_amount\"].hist(figsize=(8,8),bins=50)"
      ],
      "execution_count": 54,
      "outputs": [
        {
          "output_type": "stream",
          "text": [
            "/usr/local/lib/python3.6/dist-packages/ipykernel_launcher.py:1: SettingWithCopyWarning: \n",
            "A value is trying to be set on a copy of a slice from a DataFrame.\n",
            "Try using .loc[row_indexer,col_indexer] = value instead\n",
            "\n",
            "See the caveats in the documentation: https://pandas.pydata.org/pandas-docs/stable/user_guide/indexing.html#returning-a-view-versus-a-copy\n",
            "  \"\"\"Entry point for launching an IPython kernel.\n"
          ],
          "name": "stderr"
        },
        {
          "output_type": "execute_result",
          "data": {
            "text/plain": [
              "<matplotlib.axes._subplots.AxesSubplot at 0x7f14d0a90630>"
            ]
          },
          "metadata": {
            "tags": []
          },
          "execution_count": 54
        },
        {
          "output_type": "display_data",
          "data": {
            "image/png": "[encoded data removed]",
            "text/plain": [
              "<Figure size 576x576 with 1 Axes>"
            ]
          },
          "metadata": {
            "tags": [],
            "needs_background": "light"
          }
        }
      ]
    },
    {
      "cell_type": "code",
      "metadata": {
        "id": "Iv5yPYQjADy_",
        "colab_type": "code",
        "colab": {}
      },
      "source": [
        "# Creating X and Y for regression analysis\n",
        "\n",
        "X_reg=claim_severity_train.drop([\"numclaims\",\"claimcst0\",\"claim\",\"amountperclaim\",\"log_amount\"],axis=1)\n",
        "y_reg=claim_severity_train.log_amount"
      ],
      "execution_count": 55,
      "outputs": []
    },
    {
      "cell_type": "code",
      "metadata": {
        "id": "FEb4aY_fAG5e",
        "colab_type": "code",
        "colab": {
          "base_uri": "https://localhost:8080/",
          "height": 297
        },
        "outputId": "9f4f85ff-49aa-46cb-9e8c-f48d9792714b"
      },
      "source": [
        "# Looking at our target variable just to see if there are any outliers\n",
        "sns.boxplot(x=y_reg)"
      ],
      "execution_count": 56,
      "outputs": [
        {
          "output_type": "execute_result",
          "data": {
            "text/plain": [
              "<matplotlib.axes._subplots.AxesSubplot at 0x7f14d0a88940>"
            ]
          },
          "metadata": {
            "tags": []
          },
          "execution_count": 56
        },
        {
          "output_type": "display_data",
          "data": {
            "image/png": "[encoded data removed]",
            "text/plain": [
              "<Figure size 432x288 with 1 Axes>"
            ]
          },
          "metadata": {
            "tags": [],
            "needs_background": "light"
          }
        }
      ]
    },
    {
      "cell_type": "code",
      "metadata": {
        "id": "8Rdc8-SEAMWd",
        "colab_type": "code",
        "colab": {}
      },
      "source": [
        "# train-test split\n",
        "\n",
        "X_regtrain, X_regtest, y_regtrain, y_regtest = train_test_split(X_reg,y_reg,random_state = 0)"
      ],
      "execution_count": 57,
      "outputs": []
    },
    {
      "cell_type": "markdown",
      "metadata": {
        "id": "SsQ3HWUHAPiP",
        "colab_type": "text"
      },
      "source": [
        "#Running Gradient Boosting with Hyperparameter Tuning"
      ]
    },
    {
      "cell_type": "code",
      "metadata": {
        "id": "Tl1DGq8nAQsN",
        "colab_type": "code",
        "colab": {
          "base_uri": "https://localhost:8080/",
          "height": 442
        },
        "outputId": "8e08abfb-ad44-43cb-eb21-a39f0be1f3b5"
      },
      "source": [
        "param_grid={'n_estimators':[200],\n",
        "            'learning_rate': [0.1, 0.05, 0.02],\n",
        "            'max_depth':[6],\n",
        "            'min_samples_leaf':[3,5], \n",
        "            'max_features':[1.0,0.3,0.1] }\n",
        "\n",
        "gbrt = GradientBoostingRegressor(random_state = 0)\n",
        "grid_search = GridSearchCV(gbrt, param_grid, cv=5)\n",
        "grid_search.fit(X_regtrain, y_regtrain)"
      ],
      "execution_count": 58,
      "outputs": [
        {
          "output_type": "execute_result",
          "data": {
            "text/plain": [
              "GridSearchCV(cv=5, error_score=nan,\n",
              "             estimator=GradientBoostingRegressor(alpha=0.9, ccp_alpha=0.0,\n",
              "                                                 criterion='friedman_mse',\n",
              "                                                 init=None, learning_rate=0.1,\n",
              "                                                 loss='ls', max_depth=3,\n",
              "                                                 max_features=None,\n",
              "                                                 max_leaf_nodes=None,\n",
              "                                                 min_impurity_decrease=0.0,\n",
              "                                                 min_impurity_split=None,\n",
              "                                                 min_samples_leaf=1,\n",
              "                                                 min_samples_split=2,\n",
              "                                                 min_weight_fraction_leaf=0.0,\n",
              "                                                 n_estimators=100,\n",
              "                                                 n_iter_n...\n",
              "                                                 presort='deprecated',\n",
              "                                                 random_state=0, subsample=1.0,\n",
              "                                                 tol=0.0001,\n",
              "                                                 validation_fraction=0.1,\n",
              "                                                 verbose=0, warm_start=False),\n",
              "             iid='deprecated', n_jobs=None,\n",
              "             param_grid={'learning_rate': [0.1, 0.05, 0.02], 'max_depth': [6],\n",
              "                         'max_features': [1.0, 0.3, 0.1],\n",
              "                         'min_samples_leaf': [3, 5], 'n_estimators': [200]},\n",
              "             pre_dispatch='2*n_jobs', refit=True, return_train_score=False,\n",
              "             scoring=None, verbose=0)"
            ]
          },
          "metadata": {
            "tags": []
          },
          "execution_count": 58
        }
      ]
    },
    {
      "cell_type": "code",
      "metadata": {
        "id": "tx52hw7iCjrS",
        "colab_type": "code",
        "colab": {
          "base_uri": "https://localhost:8080/",
          "height": 34
        },
        "outputId": "311d81c1-1c7e-4044-d820-57a98cfe4899"
      },
      "source": [
        "print(grid_search.best_params_)"
      ],
      "execution_count": 59,
      "outputs": [
        {
          "output_type": "stream",
          "text": [
            "{'learning_rate': 0.05, 'max_depth': 6, 'max_features': 0.3, 'min_samples_leaf': 5, 'n_estimators': 200}\n"
          ],
          "name": "stdout"
        }
      ]
    },
    {
      "cell_type": "code",
      "metadata": {
        "id": "_J2zsoF7CmQv",
        "colab_type": "code",
        "colab": {}
      },
      "source": [
        "gbrt = GradientBoostingRegressor(learning_rate=0.05,max_depth=6,max_features=0.3,min_samples_leaf=5,n_estimators=200)\n",
        "gbrt.fit(X_regtrain, y_regtrain)\n",
        "predGB=gbrt.predict(X_regtest)"
      ],
      "execution_count": 60,
      "outputs": []
    },
    {
      "cell_type": "code",
      "metadata": {
        "id": "bBmjrWN_C3vu",
        "colab_type": "code",
        "colab": {
          "base_uri": "https://localhost:8080/",
          "height": 51
        },
        "outputId": "32ebc37a-b50e-4ba1-a2e0-aa6209d1106c"
      },
      "source": [
        "print(\"RSquare on test set of the model: \",r2_score(predGB,y_regtest))\n",
        "print(\"Mean Square Error of the model: \",mean_squared_error(predGB,y_regtest))"
      ],
      "execution_count": 61,
      "outputs": [
        {
          "output_type": "stream",
          "text": [
            "RSquare on test set of the model:  0.7398263556347331\n",
            "Mean Square Error of the model:  0.3603271261215064\n"
          ],
          "name": "stdout"
        }
      ]
    },
    {
      "cell_type": "markdown",
      "metadata": {
        "id": "xTL4vKM3DAwI",
        "colab_type": "text"
      },
      "source": [
        "#Running Random Forest with Hyperparameter tuning"
      ]
    },
    {
      "cell_type": "code",
      "metadata": {
        "id": "N4HPq-kvC8QZ",
        "colab_type": "code",
        "colab": {
          "base_uri": "https://localhost:8080/",
          "height": 374
        },
        "outputId": "d8d04a1e-3299-4ebf-e287-5efff5affbca"
      },
      "source": [
        "param_grid = {\"max_depth\": np.arange(5,10,20),\n",
        "              \"max_features\": [1, 5, 10,15],\n",
        "              \"min_samples_split\": [2, 3, 10],\n",
        "              \"min_samples_leaf\": [1, 3, 10]}\n",
        "\n",
        "rand = RandomForestRegressor(random_state = 0)\n",
        "grid_search = GridSearchCV(rand, param_grid, cv=5)\n",
        "grid_search.fit(X_regtrain, y_regtrain)"
      ],
      "execution_count": 62,
      "outputs": [
        {
          "output_type": "execute_result",
          "data": {
            "text/plain": [
              "GridSearchCV(cv=5, error_score=nan,\n",
              "             estimator=RandomForestRegressor(bootstrap=True, ccp_alpha=0.0,\n",
              "                                             criterion='mse', max_depth=None,\n",
              "                                             max_features='auto',\n",
              "                                             max_leaf_nodes=None,\n",
              "                                             max_samples=None,\n",
              "                                             min_impurity_decrease=0.0,\n",
              "                                             min_impurity_split=None,\n",
              "                                             min_samples_leaf=1,\n",
              "                                             min_samples_split=2,\n",
              "                                             min_weight_fraction_leaf=0.0,\n",
              "                                             n_estimators=100, n_jobs=None,\n",
              "                                             oob_score=False, random_state=0,\n",
              "                                             verbose=0, warm_start=False),\n",
              "             iid='deprecated', n_jobs=None,\n",
              "             param_grid={'max_depth': array([5]),\n",
              "                         'max_features': [1, 5, 10, 15],\n",
              "                         'min_samples_leaf': [1, 3, 10],\n",
              "                         'min_samples_split': [2, 3, 10]},\n",
              "             pre_dispatch='2*n_jobs', refit=True, return_train_score=False,\n",
              "             scoring=None, verbose=0)"
            ]
          },
          "metadata": {
            "tags": []
          },
          "execution_count": 62
        }
      ]
    },
    {
      "cell_type": "code",
      "metadata": {
        "id": "jcRGMoCoDEC0",
        "colab_type": "code",
        "colab": {
          "base_uri": "https://localhost:8080/",
          "height": 34
        },
        "outputId": "a284bae0-d585-4ecb-f475-d3d20b44dd74"
      },
      "source": [
        "print(grid_search.best_params_)"
      ],
      "execution_count": 63,
      "outputs": [
        {
          "output_type": "stream",
          "text": [
            "{'max_depth': 5, 'max_features': 10, 'min_samples_leaf': 3, 'min_samples_split': 10}\n"
          ],
          "name": "stdout"
        }
      ]
    },
    {
      "cell_type": "code",
      "metadata": {
        "id": "4ROcMIkjDG47",
        "colab_type": "code",
        "colab": {}
      },
      "source": [
        "rand = RandomForestRegressor(max_depth=5, max_features=10, min_samples_split=10, min_samples_leaf=3)\n",
        "rand.fit(X_regtrain, y_regtrain)\n",
        "predRF=rand.predict(X_regtest)"
      ],
      "execution_count": 64,
      "outputs": []
    },
    {
      "cell_type": "code",
      "metadata": {
        "id": "IZqJIetyDJZG",
        "colab_type": "code",
        "colab": {
          "base_uri": "https://localhost:8080/",
          "height": 51
        },
        "outputId": "269ceb41-a32b-42d3-b178-e5ad7e7f64fb"
      },
      "source": [
        "print(\"RSquare on test set of the model: \",r2_score(predRF,y_regtest))\n",
        "print(\"Mean Square Error of the model: \",mean_squared_error(predRF,y_regtest))"
      ],
      "execution_count": 65,
      "outputs": [
        {
          "output_type": "stream",
          "text": [
            "RSquare on test set of the model:  0.34515225163501484\n",
            "Mean Square Error of the model:  0.5866382095045107\n"
          ],
          "name": "stdout"
        }
      ]
    },
    {
      "cell_type": "markdown",
      "metadata": {
        "id": "aBd-pvapDN0m",
        "colab_type": "text"
      },
      "source": [
        "#Gradient boosting gives us the best results with R2 of 0.73 and very low MSE, hence we will use Gradient boosting for final prediction"
      ]
    },
    {
      "cell_type": "code",
      "metadata": {
        "id": "GwisgtzODPBY",
        "colab_type": "code",
        "colab": {}
      },
      "source": [
        "predGB=pd.DataFrame(predGB)\n",
        "predGB=predGB.apply(np.exp)"
      ],
      "execution_count": 66,
      "outputs": []
    },
    {
      "cell_type": "markdown",
      "metadata": {
        "id": "JO63SrZMDUYp",
        "colab_type": "text"
      },
      "source": [
        "#Predicting Claim severity for 2018 customers"
      ]
    },
    {
      "cell_type": "code",
      "metadata": {
        "id": "n_pU_4YBDRXX",
        "colab_type": "code",
        "colab": {
          "base_uri": "https://localhost:8080/",
          "height": 224
        },
        "outputId": "a4647bcc-e234-44bf-f77e-f0eeb33a49cb"
      },
      "source": [
        "claim_severity_test.head()"
      ],
      "execution_count": 67,
      "outputs": [
        {
          "output_type": "execute_result",
          "data": {
            "text/html": [
              "<div>\n",
              "<style scoped>\n",
              "    .dataframe tbody tr th:only-of-type {\n",
              "        vertical-align: middle;\n",
              "    }\n",
              "\n",
              "    .dataframe tbody tr th {\n",
              "        vertical-align: top;\n",
              "    }\n",
              "\n",
              "    .dataframe thead th {\n",
              "        text-align: right;\n",
              "    }\n",
              "</style>\n",
              "<table border=\"1\" class=\"dataframe\">\n",
              "  <thead>\n",
              "    <tr style=\"text-align: right;\">\n",
              "      <th></th>\n",
              "      <th>credit_score</th>\n",
              "      <th>traffic_index</th>\n",
              "      <th>veh_age</th>\n",
              "      <th>veh_value</th>\n",
              "      <th>agecat_new</th>\n",
              "      <th>gender_M</th>\n",
              "      <th>area_B</th>\n",
              "      <th>area_C</th>\n",
              "      <th>area_D</th>\n",
              "      <th>area_E</th>\n",
              "      <th>area_F</th>\n",
              "      <th>veh_body_CONVT</th>\n",
              "      <th>veh_body_COUPE</th>\n",
              "      <th>veh_body_HBACK</th>\n",
              "      <th>veh_body_HDTOP</th>\n",
              "      <th>veh_body_MCARA</th>\n",
              "      <th>veh_body_MIBUS</th>\n",
              "      <th>veh_body_PANVN</th>\n",
              "      <th>veh_body_RDSTR</th>\n",
              "      <th>veh_body_SEDAN</th>\n",
              "      <th>veh_body_STNWG</th>\n",
              "      <th>veh_body_TRUCK</th>\n",
              "      <th>veh_body_UTE</th>\n",
              "      <th>claim</th>\n",
              "    </tr>\n",
              "  </thead>\n",
              "  <tbody>\n",
              "    <tr>\n",
              "      <th>1</th>\n",
              "      <td>567.0</td>\n",
              "      <td>104.416636</td>\n",
              "      <td>3</td>\n",
              "      <td>1.124605</td>\n",
              "      <td>2</td>\n",
              "      <td>1</td>\n",
              "      <td>0</td>\n",
              "      <td>0</td>\n",
              "      <td>0</td>\n",
              "      <td>0</td>\n",
              "      <td>1</td>\n",
              "      <td>0</td>\n",
              "      <td>0</td>\n",
              "      <td>0</td>\n",
              "      <td>0</td>\n",
              "      <td>0</td>\n",
              "      <td>0</td>\n",
              "      <td>0</td>\n",
              "      <td>0</td>\n",
              "      <td>0</td>\n",
              "      <td>1</td>\n",
              "      <td>0</td>\n",
              "      <td>0</td>\n",
              "      <td>1</td>\n",
              "    </tr>\n",
              "    <tr>\n",
              "      <th>2</th>\n",
              "      <td>378.0</td>\n",
              "      <td>111.400000</td>\n",
              "      <td>3</td>\n",
              "      <td>1.210154</td>\n",
              "      <td>6</td>\n",
              "      <td>1</td>\n",
              "      <td>0</td>\n",
              "      <td>0</td>\n",
              "      <td>1</td>\n",
              "      <td>0</td>\n",
              "      <td>0</td>\n",
              "      <td>0</td>\n",
              "      <td>0</td>\n",
              "      <td>0</td>\n",
              "      <td>1</td>\n",
              "      <td>0</td>\n",
              "      <td>0</td>\n",
              "      <td>0</td>\n",
              "      <td>0</td>\n",
              "      <td>0</td>\n",
              "      <td>0</td>\n",
              "      <td>0</td>\n",
              "      <td>0</td>\n",
              "      <td>1</td>\n",
              "    </tr>\n",
              "    <tr>\n",
              "      <th>6</th>\n",
              "      <td>647.0</td>\n",
              "      <td>156.000000</td>\n",
              "      <td>3</td>\n",
              "      <td>1.364815</td>\n",
              "      <td>3</td>\n",
              "      <td>1</td>\n",
              "      <td>0</td>\n",
              "      <td>0</td>\n",
              "      <td>0</td>\n",
              "      <td>0</td>\n",
              "      <td>1</td>\n",
              "      <td>0</td>\n",
              "      <td>0</td>\n",
              "      <td>0</td>\n",
              "      <td>1</td>\n",
              "      <td>0</td>\n",
              "      <td>0</td>\n",
              "      <td>0</td>\n",
              "      <td>0</td>\n",
              "      <td>0</td>\n",
              "      <td>0</td>\n",
              "      <td>0</td>\n",
              "      <td>0</td>\n",
              "      <td>1</td>\n",
              "    </tr>\n",
              "    <tr>\n",
              "      <th>11</th>\n",
              "      <td>619.0</td>\n",
              "      <td>147.000000</td>\n",
              "      <td>3</td>\n",
              "      <td>0.682592</td>\n",
              "      <td>2</td>\n",
              "      <td>1</td>\n",
              "      <td>0</td>\n",
              "      <td>1</td>\n",
              "      <td>0</td>\n",
              "      <td>0</td>\n",
              "      <td>0</td>\n",
              "      <td>0</td>\n",
              "      <td>0</td>\n",
              "      <td>1</td>\n",
              "      <td>0</td>\n",
              "      <td>0</td>\n",
              "      <td>0</td>\n",
              "      <td>0</td>\n",
              "      <td>0</td>\n",
              "      <td>0</td>\n",
              "      <td>0</td>\n",
              "      <td>0</td>\n",
              "      <td>0</td>\n",
              "      <td>1</td>\n",
              "    </tr>\n",
              "    <tr>\n",
              "      <th>16</th>\n",
              "      <td>328.0</td>\n",
              "      <td>86.800000</td>\n",
              "      <td>4</td>\n",
              "      <td>0.817575</td>\n",
              "      <td>3</td>\n",
              "      <td>0</td>\n",
              "      <td>0</td>\n",
              "      <td>0</td>\n",
              "      <td>0</td>\n",
              "      <td>0</td>\n",
              "      <td>0</td>\n",
              "      <td>0</td>\n",
              "      <td>0</td>\n",
              "      <td>1</td>\n",
              "      <td>0</td>\n",
              "      <td>0</td>\n",
              "      <td>0</td>\n",
              "      <td>0</td>\n",
              "      <td>0</td>\n",
              "      <td>0</td>\n",
              "      <td>0</td>\n",
              "      <td>0</td>\n",
              "      <td>0</td>\n",
              "      <td>1</td>\n",
              "    </tr>\n",
              "  </tbody>\n",
              "</table>\n",
              "</div>"
            ],
            "text/plain": [
              "    credit_score  traffic_index  veh_age  ...  veh_body_TRUCK veh_body_UTE  claim\n",
              "1          567.0     104.416636        3  ...               0            0      1\n",
              "2          378.0     111.400000        3  ...               0            0      1\n",
              "6          647.0     156.000000        3  ...               0            0      1\n",
              "11         619.0     147.000000        3  ...               0            0      1\n",
              "16         328.0      86.800000        4  ...               0            0      1\n",
              "\n",
              "[5 rows x 24 columns]"
            ]
          },
          "metadata": {
            "tags": []
          },
          "execution_count": 67
        }
      ]
    },
    {
      "cell_type": "code",
      "metadata": {
        "id": "jshi-rmzDZg5",
        "colab_type": "code",
        "colab": {}
      },
      "source": [
        "X_reg_test=claim_severity_test.drop([\"claim\"],axis=1)\n",
        "predtest=gbrt.predict(X_reg_test)"
      ],
      "execution_count": 68,
      "outputs": []
    },
    {
      "cell_type": "markdown",
      "metadata": {
        "id": "cdF2dVYEDcbN",
        "colab_type": "text"
      },
      "source": [
        "#We will have to do inverse transform of our predicted values so as to get the actual values as we performed log transform to remove skewness"
      ]
    },
    {
      "cell_type": "code",
      "metadata": {
        "id": "thP4Jju5Dd4S",
        "colab_type": "code",
        "colab": {}
      },
      "source": [
        "predtest=pd.DataFrame(predtest)\n",
        "predtest=predtest.apply(np.exp)"
      ],
      "execution_count": 69,
      "outputs": []
    },
    {
      "cell_type": "markdown",
      "metadata": {
        "id": "DUHNo772DgPy",
        "colab_type": "text"
      },
      "source": [
        "Finding lowest 10% of the prdecited claim customers"
      ]
    },
    {
      "cell_type": "code",
      "metadata": {
        "id": "D33r_IBpDkLh",
        "colab_type": "code",
        "colab": {}
      },
      "source": [
        "n=math.floor(0.1*len(pred_test))\n",
        "Lowest=predtest.nsmallest(n,0)\n",
        "Lowest=Lowest.rename({0:'Claim_Severity'},axis=1)"
      ],
      "execution_count": 70,
      "outputs": []
    },
    {
      "cell_type": "code",
      "metadata": {
        "id": "bfcK3BLqDluK",
        "colab_type": "code",
        "colab": {
          "base_uri": "https://localhost:8080/",
          "height": 204
        },
        "outputId": "2433922b-7799-48a3-e5b9-dede085d8d65"
      },
      "source": [
        "CustomerClaims=df_2018.join(Lowest,how='right')\n",
        "CustomerClaims.head()"
      ],
      "execution_count": 71,
      "outputs": [
        {
          "output_type": "execute_result",
          "data": {
            "text/html": [
              "<div>\n",
              "<style scoped>\n",
              "    .dataframe tbody tr th:only-of-type {\n",
              "        vertical-align: middle;\n",
              "    }\n",
              "\n",
              "    .dataframe tbody tr th {\n",
              "        vertical-align: top;\n",
              "    }\n",
              "\n",
              "    .dataframe thead th {\n",
              "        text-align: right;\n",
              "    }\n",
              "</style>\n",
              "<table border=\"1\" class=\"dataframe\">\n",
              "  <thead>\n",
              "    <tr style=\"text-align: right;\">\n",
              "      <th></th>\n",
              "      <th>quote_number</th>\n",
              "      <th>gender</th>\n",
              "      <th>date_of_birth</th>\n",
              "      <th>credit_score</th>\n",
              "      <th>area</th>\n",
              "      <th>traffic_index</th>\n",
              "      <th>veh_age</th>\n",
              "      <th>veh_body</th>\n",
              "      <th>veh_value</th>\n",
              "      <th>DOB_year</th>\n",
              "      <th>agecat_new</th>\n",
              "      <th>claim</th>\n",
              "      <th>Claim_Severity</th>\n",
              "    </tr>\n",
              "  </thead>\n",
              "  <tbody>\n",
              "    <tr>\n",
              "      <th>1112</th>\n",
              "      <td>61432340</td>\n",
              "      <td>F</td>\n",
              "      <td>1964-07-13</td>\n",
              "      <td>668.0</td>\n",
              "      <td>E</td>\n",
              "      <td>10.5</td>\n",
              "      <td>1</td>\n",
              "      <td>SEDAN</td>\n",
              "      <td>0.999160</td>\n",
              "      <td>1964</td>\n",
              "      <td>4</td>\n",
              "      <td>0</td>\n",
              "      <td>123.494890</td>\n",
              "    </tr>\n",
              "    <tr>\n",
              "      <th>1146</th>\n",
              "      <td>52037944</td>\n",
              "      <td>F</td>\n",
              "      <td>1989-12-10</td>\n",
              "      <td>427.0</td>\n",
              "      <td>E</td>\n",
              "      <td>22.5</td>\n",
              "      <td>1</td>\n",
              "      <td>STNWG</td>\n",
              "      <td>1.397976</td>\n",
              "      <td>1989</td>\n",
              "      <td>1</td>\n",
              "      <td>1</td>\n",
              "      <td>128.447614</td>\n",
              "    </tr>\n",
              "    <tr>\n",
              "      <th>99</th>\n",
              "      <td>44383766</td>\n",
              "      <td>M</td>\n",
              "      <td>1930-05-05</td>\n",
              "      <td>420.0</td>\n",
              "      <td>B</td>\n",
              "      <td>123.9</td>\n",
              "      <td>4</td>\n",
              "      <td>HBACK</td>\n",
              "      <td>0.589452</td>\n",
              "      <td>1930</td>\n",
              "      <td>2</td>\n",
              "      <td>1</td>\n",
              "      <td>140.412575</td>\n",
              "    </tr>\n",
              "    <tr>\n",
              "      <th>361</th>\n",
              "      <td>55103679</td>\n",
              "      <td>M</td>\n",
              "      <td>1960-08-07</td>\n",
              "      <td>832.0</td>\n",
              "      <td>A</td>\n",
              "      <td>51.0</td>\n",
              "      <td>2</td>\n",
              "      <td>MCARA</td>\n",
              "      <td>1.764731</td>\n",
              "      <td>1960</td>\n",
              "      <td>1</td>\n",
              "      <td>0</td>\n",
              "      <td>141.637914</td>\n",
              "    </tr>\n",
              "    <tr>\n",
              "      <th>1961</th>\n",
              "      <td>66145129</td>\n",
              "      <td>M</td>\n",
              "      <td>1953-05-06</td>\n",
              "      <td>764.0</td>\n",
              "      <td>C</td>\n",
              "      <td>132.0</td>\n",
              "      <td>2</td>\n",
              "      <td>SEDAN</td>\n",
              "      <td>1.163151</td>\n",
              "      <td>1953</td>\n",
              "      <td>3</td>\n",
              "      <td>0</td>\n",
              "      <td>141.737621</td>\n",
              "    </tr>\n",
              "  </tbody>\n",
              "</table>\n",
              "</div>"
            ],
            "text/plain": [
              "      quote_number gender date_of_birth  ...  agecat_new claim  Claim_Severity\n",
              "1112      61432340      F    1964-07-13  ...           4     0      123.494890\n",
              "1146      52037944      F    1989-12-10  ...           1     1      128.447614\n",
              "99        44383766      M    1930-05-05  ...           2     1      140.412575\n",
              "361       55103679      M    1960-08-07  ...           1     0      141.637914\n",
              "1961      66145129      M    1953-05-06  ...           3     0      141.737621\n",
              "\n",
              "[5 rows x 13 columns]"
            ]
          },
          "metadata": {
            "tags": []
          },
          "execution_count": 71
        }
      ]
    },
    {
      "cell_type": "markdown",
      "metadata": {
        "id": "8UEFewY7DqiR",
        "colab_type": "text"
      },
      "source": [
        "#Generating Risk Profile based on probability of claim"
      ]
    },
    {
      "cell_type": "code",
      "metadata": {
        "id": "Ct-vYOnHDrur",
        "colab_type": "code",
        "colab": {}
      },
      "source": [
        "RiskProfile=df_2018.copy()\n",
        "RiskProfile[\"ClaimProb\"]=Low.claim_prob"
      ],
      "execution_count": 72,
      "outputs": []
    },
    {
      "cell_type": "code",
      "metadata": {
        "id": "GuI2P0xMDub8",
        "colab_type": "code",
        "colab": {}
      },
      "source": [
        "def risk(X):\n",
        "    \n",
        "    \"\"\" Functions generates Risk profile based on probability of claim\n",
        "            and gives out 3 profiles, Low, Medium and High\"\"\"\n",
        "    \n",
        "    risk=[]\n",
        "    if X<0.166:\n",
        "        risk=\"Low\"\n",
        "    elif 0.166<=X<0.4:\n",
        "        risk=\"Medium\"\n",
        "    else:\n",
        "        risk=\"High\"\n",
        "    return(risk)\n",
        "RiskProfile[\"Risk\"]=RiskProfile.ClaimProb.apply(risk)"
      ],
      "execution_count": 73,
      "outputs": []
    },
    {
      "cell_type": "code",
      "metadata": {
        "id": "CfXpqhswDxEK",
        "colab_type": "code",
        "colab": {
          "base_uri": "https://localhost:8080/",
          "height": 295
        },
        "outputId": "8cb11262-bf39-4573-ceb9-c98af022c667"
      },
      "source": [
        "fig, ax1 = plt.subplots()\n",
        "fig.set_size_inches(12,4)\n",
        "g = sns.countplot(x='Risk',data=RiskProfile)\n",
        "title = g.set_title('Risk Count 2018 Customers')"
      ],
      "execution_count": 74,
      "outputs": [
        {
          "output_type": "display_data",
          "data": {
            "image/png": "[encoded data removed]",
            "text/plain": [
              "<Figure size 864x288 with 1 Axes>"
            ]
          },
          "metadata": {
            "tags": [],
            "needs_background": "light"
          }
        }
      ]
    },
    {
      "cell_type": "code",
      "metadata": {
        "id": "urIdbZBSD4wO",
        "colab_type": "code",
        "colab": {}
      },
      "source": [
        "#RiskProfile.to_csv(\"finall.csv\")\n"
      ],
      "execution_count": 80,
      "outputs": []
    },
    {
      "cell_type": "code",
      "metadata": {
        "id": "Xh5YnfOvF_gX",
        "colab_type": "code",
        "colab": {}
      },
      "source": [
        "#data_2017=pd.dummies(data=data_2017, columns=['gender', 'area','veh_body'],drop_first=True)"
      ],
      "execution_count": 81,
      "outputs": []
    }
  ]
}